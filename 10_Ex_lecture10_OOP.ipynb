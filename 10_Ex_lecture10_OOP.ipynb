{
 "cells": [
  {
   "cell_type": "markdown",
   "id": "720f0b13-2d91-439e-a759-bbd72b295890",
   "metadata": {},
   "source": [
    "# Exercise 1\n",
    "\n",
    "a. Create a class `Vehicle` with attributes: name, max_speed and mileage. Important: use `__init__`!\n",
    "\n",
    "b. Define a member function `seating_capacity` that prints the name of the Vehicle and the seat capacity that can be passed as argument to the function\n",
    "\n",
    "c. Create a `Bus` class that inherits from the Vehicle class. Give the capacity argument of `Bus.seating_capacity()` a default value of 50.\n",
    "\n",
    "d. Define a class attribute ”color” with a default value white, i.e. every Vehicle should be white. Define a new class `Car` that inherits from Vehicle with deafult seat capacity of 5 and check the color.\n",
    "\n",
    "e. Finally, determine if School_bus is also an instance of the Vehicle class (hint: check the built in function `isinstance`)\n"
   ]
  },
  {
   "cell_type": "code",
   "execution_count": 1,
   "id": "8a920baf-5aa4-4e9c-b720-8a41cd805009",
   "metadata": {},
   "outputs": [
    {
     "name": "stdout",
     "output_type": "stream",
     "text": [
      "The seating capacity of a School Volvo is 50 passengers\n",
      "The bus color is: White\n",
      "The seating capacity of a Audi A5 is 5 passengers\n",
      "The car color is: White\n",
      "True\n"
     ]
    }
   ],
   "source": [
    "class Vehicle:\n",
    "    \n",
    "    # Class attribute\n",
    "    color = \"White\"\n",
    "    \n",
    "    def __init__(self, name, max_speed, mileage):\n",
    "        self.name = name\n",
    "        self.max_speed = max_speed\n",
    "        self.mileage = mileage\n",
    "\n",
    "    def seating_capacity(self, capacity):\n",
    "        return f\"The seating capacity of a {self.name} is {capacity} passengers\"\n",
    "\n",
    "class Bus(Vehicle):\n",
    "    # assign default value to capacity\n",
    "    def seating_capacity(self, capacity=50):\n",
    "        return super().seating_capacity(capacity=capacity)\n",
    "\n",
    "    \n",
    "class Car(Vehicle):\n",
    "    # assign default value to capacity\n",
    "    def seating_capacity(self, capacity=5):\n",
    "        return super().seating_capacity(capacity=capacity)\n",
    "\n",
    "    \n",
    "\n",
    "School_bus = Bus(\"School Volvo\", 180, 12)\n",
    "print(School_bus.seating_capacity())\n",
    "print(\"The bus color is:\", School_bus.color)\n",
    "\n",
    "Audi = Car(\"Audi A5\", 250, 100)\n",
    "print(Audi.seating_capacity())\n",
    "print(\"The car color is:\", Audi.color)\n",
    "\n",
    "\n",
    "# Python's built-in isinstance() function\n",
    "print(isinstance(School_bus, Vehicle))"
   ]
  },
  {
   "cell_type": "markdown",
   "id": "336b27a8-f16a-4b18-a545-10e50becc5c1",
   "metadata": {
    "tags": []
   },
   "source": [
    "# Exercise 2\n",
    "\n",
    "Follow the steps:\n",
    "\n",
    "- Create a class, Triangle. Its __init__() method should take self, angle1, angle2, and angle3 as arguments. Make sure to set these appropriately in the body of the __init__() method.\n",
    "- Create a variable named number_of_sides and set it equal to 3.\n",
    "- Create a method named check_angles. The sum of a triangle's three angles is It should return True if the sum of self.angle1, self.angle2, and self.angle3 is equal 180, and False otherwise.\n",
    "- Create a variable named my_triangle and set it equal to a new instance of your Triangle class. Pass it three angles that sum to 180 (e.g. 90, 30, 60).\n",
    "- Print out my_triangle.number_of_sides and print out my_triangle.check_angles().\n"
   ]
  },
  {
   "cell_type": "code",
   "execution_count": 2,
   "id": "3cfd0423-bd8b-4475-8e24-d805c6d8d1f2",
   "metadata": {},
   "outputs": [
    {
     "name": "stdout",
     "output_type": "stream",
     "text": [
      "3\n",
      "True\n"
     ]
    }
   ],
   "source": [
    "class Triangle(object):\n",
    "    def __init__(self,angle1,angle2,angle3):\n",
    "        self.angle1=angle1\n",
    "        self.angle2=angle2\n",
    "        self.angle3=angle3\n",
    "\n",
    "    number_of_sides=3\n",
    "    def check_angles(self):\n",
    "        if self.angle1+self.angle2+self.angle3 ==180:\n",
    "            return True\n",
    "        else:\n",
    "            return False\n",
    "\n",
    "class Equilateral(Triangle):\n",
    "    angle = 60\n",
    "    def __init__(self):\n",
    "        self.angle1 = self.angle2 = self.angle3 = self.angle\n",
    "        \n",
    "        \n",
    "my_triangle=Triangle(90,30,60)\n",
    "print(my_triangle.number_of_sides)\n",
    "\n",
    "print(my_triangle.check_angles())"
   ]
  },
  {
   "cell_type": "markdown",
   "id": "41b21bf3-9e15-48e0-a623-4ee5db75abda",
   "metadata": {},
   "source": [
    "# Exercise 3\n",
    "\n",
    "Write a Python program that overloads the operator + and > for a custom class. (To overload the operators for the class objects we define the specific dunders method. For the + operator the dunder method is \\__add\\__() and for > its \\__gt\\__(), check more about dunder methods if you are interested https://www.pythonmorsels.com/what-are-dunder-methods/).\n",
    "The class must accecpt lists, the plus operation must sum lists, the greater than operator must check the length os the lists.\n"
   ]
  },
  {
   "cell_type": "code",
   "execution_count": 3,
   "id": "37260dc8-8c1e-42af-aa42-3b11254578e6",
   "metadata": {},
   "outputs": [
    {
     "name": "stdout",
     "output_type": "stream",
     "text": [
      "order1 + order2= [1, 2, 3, 4, 5, 6, 10, 20, 30]\n",
      "order1 > order2= True\n"
     ]
    }
   ],
   "source": [
    "class Orders:\n",
    "    def __init__(self, items):\n",
    "        self.items = items\n",
    "\n",
    "    # overload the + operator\n",
    "    def __add__(self, other):\n",
    "        return self.items + other.items\n",
    "\n",
    "    # overload the > operator\n",
    "    def __gt__(self, other):\n",
    "        return len(self.items) > len(other.items)\n",
    "\n",
    "order1 = Orders([1, 2, 3, 4, 5, 6])\n",
    "\n",
    "order2 = Orders([10, 20, 30])\n",
    "\n",
    "print(\"order1 + order2=\", order1 + order2)\n",
    "print(\"order1 > order2=\", order1 > order2)"
   ]
  },
  {
   "cell_type": "markdown",
   "id": "249d92ec-1f3e-4367-a504-c813e034b1cb",
   "metadata": {
    "tags": []
   },
   "source": [
    "# Exercise 4\n",
    "\n",
    "Create a class that takes as input a list of countries and returns their capitals. Also implement functions that fill a bar plot of population and surface occupied by each county (hint: you can create three member functions, one for each task).\n",
    "\n",
    "To get info about countries you can use the package `countryinfo` (if not installed use pip, i.e. `pip3 install countryinfo` or look for it into anaconda repositories. Check the doc to learn how to access the required information: https://pypi.org/project/countryinfo/#api-usage)."
   ]
  },
  {
   "cell_type": "code",
   "execution_count": 6,
   "id": "898dc9bf-862e-44b9-9dbf-ebfd62b7f799",
   "metadata": {},
   "outputs": [],
   "source": [
    "from countryinfo import CountryInfo\n",
    "import matplotlib.pyplot as plt\n",
    "import numpy as np\n",
    "\n",
    "\n",
    "class show_country_info:\n",
    "    \n",
    "    def __init__(self, list_of_countries):\n",
    "        self.list_of_countries = list_of_countries\n",
    "        self.N = len(self.list_of_countries)\n",
    "        \n",
    "    \n",
    "    def get_capital(self):\n",
    "        \n",
    "        for country_name in self.list_of_countries:\n",
    "            country = CountryInfo(country_name)\n",
    "            print(\"\\nThe capital of {} is {}.\".format(country_name,country.capital()))\n",
    "        print(\"\\n\\n\")\n",
    "            \n",
    "    def get_population(self,ax):\n",
    "        pop = np.zeros(self.N)\n",
    "        for i,country_name in enumerate(self.list_of_countries):\n",
    "            country = CountryInfo(country_name)\n",
    "            pop[i] = country.population()\n",
    "            \n",
    "        ax.bar(self.list_of_countries,pop)\n",
    "\n",
    "        \n",
    "    def get_surface(self,ax):\n",
    "        area = np.zeros(self.N)\n",
    "        for i,country_name in enumerate(self.list_of_countries):\n",
    "            country = CountryInfo(country_name)\n",
    "            area[i] = country.area()\n",
    "            \n",
    "        ax.bar(self.list_of_countries,area)"
   ]
  },
  {
   "cell_type": "code",
   "execution_count": 7,
   "id": "ac7928f7-7d11-40e3-b301-06f0d7e3272a",
   "metadata": {},
   "outputs": [
    {
     "name": "stdout",
     "output_type": "stream",
     "text": [
      "\n",
      "The capital of Italy is Rome.\n",
      "\n",
      "The capital of Madagascar is Antananarivo.\n",
      "\n",
      "The capital of Tuvalu is Funafuti.\n",
      "\n",
      "The capital of Russia is Moscow.\n",
      "\n",
      "\n",
      "\n"
     ]
    },
    {
     "data": {
      "image/png": "[encoded data removed]",
      "text/plain": [
       "<Figure size 720x720 with 1 Axes>"
      ]
     },
     "metadata": {
      "needs_background": "light"
     },
     "output_type": "display_data"
    },
    {
     "data": {
      "image/png": "[encoded data removed]",
      "text/plain": [
       "<Figure size 720x720 with 1 Axes>"
      ]
     },
     "metadata": {
      "needs_background": "light"
     },
     "output_type": "display_data"
    }
   ],
   "source": [
    "list_of_nations = [\"Italy\", \"Madagascar\", \"Tuvalu\", \"Russia\"]\n",
    "countries = show_country_info(list_of_nations)\n",
    "\n",
    "countries.get_capital()\n",
    "\n",
    "fig, ax=plt.subplots(figsize=(10,10))\n",
    "ax.set_yscale('log')\n",
    "countries.get_population(ax)\n",
    "\n",
    "fig, ax=plt.subplots(figsize=(10,10))\n",
    "ax.set_yscale('log')\n",
    "countries.get_surface(ax)"
   ]
  },
  {
   "cell_type": "markdown",
   "id": "dfa09f0c-9116-4fa0-b4ff-ec51eaec37e4",
   "metadata": {
    "tags": []
   },
   "source": [
    "# Exercise 5\n",
    "\n",
    "Write a Python class to find validity of a string of parentheses, '(', ')', '{', '}', '[' and ']. These brackets must be close in the correct order,\n",
    "for example \"()\" and \"()[]{}\" are valid but \"[)\", \"({[)]\" and \"{{{\" are invalid."
   ]
  },
  {
   "cell_type": "code",
   "execution_count": 8,
   "id": "27054b1c-d811-4079-9fa1-38f41fcd6cc5",
   "metadata": {},
   "outputs": [
    {
     "name": "stdout",
     "output_type": "stream",
     "text": [
      "True\n",
      "False\n",
      "True\n"
     ]
    }
   ],
   "source": [
    "class check_p:\n",
    "    def is_valid_parenthese(self, str1):\n",
    "        stack = [] # array that store parentesis\n",
    "        pchar = {\"(\": \")\", \"{\": \"}\", \"[\": \"]\"}\n",
    "\n",
    "        for parenthese in str1:\n",
    "            if parenthese in pchar:\n",
    "                stack.append(parenthese)\n",
    "                #print(stack)\n",
    "            elif len(stack) == 0 or pchar[stack.pop()] != parenthese: # pop() removes an item from the back\n",
    "                return False\n",
    "        return len(stack) == 0\n",
    "\n",
    "print(check_p().is_valid_parenthese(\"(){}[]\"))\n",
    "print(check_p().is_valid_parenthese(\"()[{)}\"))\n",
    "print(check_p().is_valid_parenthese(\"([])\"))"
   ]
  },
  {
   "cell_type": "markdown",
   "id": "b625ed29-67c7-4456-bd1c-08ab2f7f4c64",
   "metadata": {},
   "source": [
    "# Exercise 6\n",
    "\n",
    "Write a Python class to convert an integer to a roman numeral. Check https://en.wikipedia.org/wiki/Roman_numerals for a review."
   ]
  },
  {
   "cell_type": "code",
   "execution_count": 9,
   "id": "667f9aeb-e253-4fa4-8ca6-57015e92255e",
   "metadata": {},
   "outputs": [
    {
     "name": "stdout",
     "output_type": "stream",
     "text": [
      "I\n",
      "MMMM\n",
      "MCMLVII\n"
     ]
    }
   ],
   "source": [
    "class Roman_conventer:\n",
    "    # member fuction that converts the integers\n",
    "    def int_to_Roman(self, num):\n",
    "        # array of values\n",
    "        val = [\n",
    "            1000, 900, 500, 400,\n",
    "            100, 90, 50, 40,\n",
    "            10, 9, 5, 4,\n",
    "            1\n",
    "            ]\n",
    "        # array of simbols\n",
    "        syb = [\n",
    "            \"M\", \"CM\", \"D\", \"CD\",\n",
    "            \"C\", \"XC\", \"L\", \"XL\",\n",
    "            \"X\", \"IX\", \"V\", \"IV\",\n",
    "            \"I\"\n",
    "            ]\n",
    "        \n",
    "        # string for roman number\n",
    "        roman_num = ''\n",
    "        i = 0\n",
    "        while  num > 0:\n",
    "            for _ in range(num // val[i]): #  if the reminder of a selected value is larger than zero, than the number roman number contains the associated symbol\n",
    "                roman_num += syb[i]\n",
    "                num -= val[i]\n",
    "            i += 1\n",
    "        return roman_num\n",
    "\n",
    "\n",
    "print(Roman_conventer().int_to_Roman(1))\n",
    "print(Roman_conventer().int_to_Roman(4000))\n",
    "print(Roman_conventer().int_to_Roman(1957))"
   ]
  }
 ],
 "metadata": {
  "kernelspec": {
   "display_name": "Python 3 (ipykernel)",
   "language": "python",
   "name": "python3"
  },
  "language_info": {
   "codemirror_mode": {
    "name": "ipython",
    "version": 3
   },
   "file_extension": ".py",
   "mimetype": "text/x-python",
   "name": "python",
   "nbconvert_exporter": "python",
   "pygments_lexer": "ipython3",
   "version": "3.9.12"
  }
 },
 "nbformat": 4,
 "nbformat_minor": 5
}
