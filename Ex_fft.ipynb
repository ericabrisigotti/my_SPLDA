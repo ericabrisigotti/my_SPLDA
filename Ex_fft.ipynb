{
 "cells": [
  {
   "cell_type": "markdown",
   "metadata": {},
   "source": [
    "# Exercise\n",
    "\n",
    "Compute the FFT of the time series in the file \"time_series.dat\". \n",
    "\n",
    "- Plot the time series\n",
    "- Find out the power spectrum and the ratio among different harmonics\n",
    "- Compute the phase of the FFT (hint: use arctan2)\n",
    "- Try to use a window function (check into the numpy doc about window functions)\n",
    "- Resample the time series with 10 times less points and redo the calculations (hint: you can interpolate or pick less points)\n",
    "- Reobtain the orginal time series performing the inverse transform."
   ]
  }
 ],
 "metadata": {
  "kernelspec": {
   "display_name": "Python 3",
   "language": "python",
   "name": "python3"
  },
  "language_info": {
   "codemirror_mode": {
    "name": "ipython",
    "version": 3
   },
   "file_extension": ".py",
   "mimetype": "text/x-python",
   "name": "python",
   "nbconvert_exporter": "python",
   "pygments_lexer": "ipython3",
   "version": "3.8.5"
  }
 },
 "nbformat": 4,
 "nbformat_minor": 4
}
