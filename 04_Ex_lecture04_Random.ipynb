{
 "cells": [
  {
   "cell_type": "markdown",
   "id": "d3f7a9d4-8cf2-460d-8122-c90534e2e325",
   "metadata": {},
   "source": [
    "### Exercise 1\n",
    "\n",
    "Generate 100 random lottery tickets and pick two lucky tickets from it as a winner.\n",
    "\n",
    "Note you must adhere to the following conditions:\n",
    "\n",
    "- The lottery number must be 10 digits long.\n",
    "- All 100 ticket number must be unique."
   ]
  },
  {
   "cell_type": "code",
   "execution_count": 12,
   "id": "8203d956-eb25-4089-9866-d56586c6602e",
   "metadata": {},
   "outputs": [
    {
     "name": "stdout",
     "output_type": "stream",
     "text": [
      "the lucky tickets are: [68293 75903]\n"
     ]
    }
   ],
   "source": [
    "import numpy as np\n",
    "\n",
    "digits=5\n",
    "n_tickets=100\n",
    "n_winners=2\n",
    "len_tickets=0\n",
    "tickets = np.random.randint(low=10**(digits-1), high=int('9'*digits),\n",
    "                            size=n_tickets)\n",
    "while len(tickets) < len(np.unique(tickets)):\n",
    "    tickets = np.random.randint(low=10**(digits-1),\n",
    "                                high=int('9'*digits),\n",
    "                                size=n_tickets)\n",
    "winners = np.random.choice(tickets, replace=False, size=n_winners)\n",
    "print('the lucky tickets are: '+str(winners))"
   ]
  },
  {
   "cell_type": "markdown",
   "id": "635ddf0a-56bf-4db8-8b05-1c6a108806d4",
   "metadata": {},
   "source": [
    "### Exercise 2\n",
    "\n",
    "Generate a random Password which meets the following conditions\n",
    "\n",
    "- Password length must be 10 characters long.\n",
    "- It must contain **at least** 2 upper case letters, 1 digit, and 1 special symbol.\n",
    "\n",
    "Hint1: you can define a function that you can call several times\n",
    "\n",
    "Hint2: you can use the string package that already contains the collection of all characters. See below:"
   ]
  },
  {
   "cell_type": "code",
   "execution_count": 24,
   "id": "8030317e-3d0d-45e7-ba0c-73fed9917b79",
   "metadata": {},
   "outputs": [
    {
     "name": "stdout",
     "output_type": "stream",
     "text": [
      "CPz3k;5B<%\n"
     ]
    }
   ],
   "source": [
    "import string\n",
    "\n",
    "all_characters=list( string.ascii_letters + string.digits + \n",
    "                    string.punctuation )\n",
    "req_2upper=np.random.choice(list(string.ascii_uppercase),size=2 )\n",
    "req_1digit=np.random.choice(list(string.digits),size=1 )\n",
    "req_1sym=np.random.choice(list(string.punctuation),size=1 )\n",
    "others=np.random.choice(all_characters, size=6 )\n",
    "password=np.concatenate( (req_2upper,req_1digit,req_1sym,others) )\n",
    "np.random.shuffle(password)\n",
    "password=''.join(password)\n",
    "print(password)"
   ]
  },
  {
   "cell_type": "markdown",
   "id": "d14a2054-0a98-4059-a0be-336b45a4f179",
   "metadata": {
    "tags": []
   },
   "source": [
    "### Exercise 3\n",
    "\n",
    "Generate 100 random numbers from the uniform distribution between -1 and 1. Set the initial seed equal to 3.\n",
    "Change sign of all negative entries and compute their square roots. Finally, compute the mean of the 100 numbers you have obtained by weighting twice those that were initially negative."
   ]
  },
  {
   "cell_type": "code",
   "execution_count": 42,
   "id": "cc7fee5d-c81d-474e-ae61-1848f64fb7d9",
   "metadata": {},
   "outputs": [
    {
     "name": "stdout",
     "output_type": "stream",
     "text": [
      "0.5729793551691068\n"
     ]
    }
   ],
   "source": [
    "import numpy as np\n",
    "\n",
    "np.random.seed(3)\n",
    "n = np.random.uniform(low=-1., high=+1., size=100)\n",
    "idx=np.where(n<0)\n",
    "\n",
    "# we substitute only the negative values with the square root of their absolute value\n",
    "n[idx] = np.sqrt( abs(n)[idx] )\n",
    "\n",
    "w=np.ones_like(n)\n",
    "w[idx]=2\n",
    "av = np.average(n, weights=w)\n",
    "print(av)"
   ]
  }
 ],
 "metadata": {
  "kernelspec": {
   "display_name": "Python 3 (ipykernel)",
   "language": "python",
   "name": "python3"
  },
  "language_info": {
   "codemirror_mode": {
    "name": "ipython",
    "version": 3
   },
   "file_extension": ".py",
   "mimetype": "text/x-python",
   "name": "python",
   "nbconvert_exporter": "python",
   "pygments_lexer": "ipython3",
   "version": "3.8.3"
  }
 },
 "nbformat": 4,
 "nbformat_minor": 5
}
