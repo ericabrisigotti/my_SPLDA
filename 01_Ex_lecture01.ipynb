{
 "cells": [
  {
   "cell_type": "markdown",
   "id": "8400f1c5-6c4f-4a14-ba53-e57956d4754a",
   "metadata": {},
   "source": [
    "# Exercise lecture 1"
   ]
  },
  {
   "cell_type": "markdown",
   "id": "30dd8bd0-0902-41d3-a795-d3b164306356",
   "metadata": {},
   "source": [
    "### Exercise 1\n",
    "\n",
    "Create a nested list in a Markdown cell in a notebook that looks like this:\n",
    "\n",
    "1.  Get funding.\n",
    "2.  Do work.\n",
    "    * Design experiment.\n",
    "    * Collect data.\n",
    "    * Analyze.\n",
    "3. Write up.\n",
    "4. Publish.\n"
   ]
  },
  {
   "cell_type": "markdown",
   "id": "1d27873b-8e7e-421f-8232-6086e12acae9",
   "metadata": {},
   "source": [
    "1. get funding.\n",
    "2. do work\n",
    "    - design experiment\n",
    "    - collect data\n",
    "    - analyze\n",
    "3. write up\n",
    "4. publish"
   ]
  },
  {
   "attachments": {
    "bda807b6-60e1-4600-9937-a6140f7d8073.png": {
     "image/png": "[encoded data removed]"
    }
   },
   "cell_type": "markdown",
   "id": "4a19ea38-1292-4e3d-8efc-002ebd36e30d",
   "metadata": {},
   "source": [
    "### Exercise 2\n",
    "\n",
    "Create a new Markdown cell and enter the following equation using latex:\n",
    "\n",
    "![immagine.png](attachment:bda807b6-60e1-4600-9937-a6140f7d8073.png)"
   ]
  },
  {
   "cell_type": "markdown",
   "id": "36c80729-b732-46e5-9e50-7aef0ab71331",
   "metadata": {},
   "source": [
    "$$ \\ddot{r}=-\\frac{GM}{r^2} $$"
   ]
  },
  {
   "cell_type": "markdown",
   "id": "24c0dcc5-4c65-49f3-9902-9a071c6f743e",
   "metadata": {},
   "source": [
    "### Exercise 3\n",
    "Define a string containing \"Hello World\" and print it."
   ]
  },
  {
   "cell_type": "code",
   "execution_count": 1,
   "id": "069e113d-62a2-42ab-80c0-060d39e1ffa2",
   "metadata": {},
   "outputs": [
    {
     "name": "stdout",
     "output_type": "stream",
     "text": [
      "Hello World\n"
     ]
    }
   ],
   "source": [
    "# defininig the desired string\n",
    "a=\"Hello World\"\n",
    "# printing it\n",
    "print(a)"
   ]
  },
  {
   "cell_type": "markdown",
   "id": "07ba7d72-0449-4c98-91bf-da4373f6f08c",
   "metadata": {},
   "source": [
    "### Exercise 4\n",
    "\n",
    "Define four variables: an integer, a float, a complex and a string of 10 characters. Print them and check their type."
   ]
  },
  {
   "cell_type": "code",
   "execution_count": 5,
   "id": "62d1e132-b127-46b7-a60f-7a6a7353813c",
   "metadata": {
    "collapsed": true,
    "jupyter": {
     "outputs_hidden": true
    },
    "tags": []
   },
   "outputs": [
    {
     "name": "stdout",
     "output_type": "stream",
     "text": [
      "8 <class 'int'>\n",
      "6.0 <class 'float'>\n",
      "(1+2j) <class 'complex'>\n",
      "playWordle <class 'str'>\n"
     ]
    }
   ],
   "source": [
    "a=8\n",
    "b=6.0\n",
    "c=1+2j\n",
    "d='playWordle'\n",
    "for idx in [a,b,c,d]:\n",
    "    print(idx,type(idx))"
   ]
  },
  {
   "cell_type": "markdown",
   "id": "3fb7e74a-0d10-4bf8-85a1-d7f484f2749d",
   "metadata": {},
   "source": [
    "### Exercise 5\n",
    "\n",
    "What is the final value of `position` in the program below? (Try to predict the value without running the program, then check your prediction.)"
   ]
  },
  {
   "cell_type": "markdown",
   "id": "cfca4646-eb64-44ec-9c86-081869cbb8b9",
   "metadata": {},
   "source": [
    "I predict it to be 'left'"
   ]
  },
  {
   "cell_type": "code",
   "execution_count": 6,
   "id": "7259485a-72f9-413f-824c-9aa0da1a1f64",
   "metadata": {},
   "outputs": [],
   "source": [
    "initial = 'left'\n",
    "position = initial\n",
    "initial = 'right'"
   ]
  },
  {
   "cell_type": "code",
   "execution_count": 7,
   "id": "eb7f83a0-89a9-4876-8eea-1c8dbc5ea04b",
   "metadata": {},
   "outputs": [
    {
     "name": "stdout",
     "output_type": "stream",
     "text": [
      "left\n"
     ]
    }
   ],
   "source": [
    "print(position)"
   ]
  },
  {
   "cell_type": "markdown",
   "id": "110b5501-6bc8-4266-aca4-4321c0251868",
   "metadata": {},
   "source": [
    "### Exercise 6\n",
    "\n",
    "If you assign `a = 123`, what happens if you try to get the second digit of a via `a[1]`?"
   ]
  },
  {
   "cell_type": "markdown",
   "id": "5ce585f6-1bae-485f-bb70-38552e352f92",
   "metadata": {},
   "source": [
    "I get an error because integers are not subscriptable: "
   ]
  },
  {
   "cell_type": "code",
   "execution_count": 10,
   "id": "66c6e970-ea7b-4ce1-ba8a-37b71098c149",
   "metadata": {},
   "outputs": [
    {
     "ename": "TypeError",
     "evalue": "'int' object is not subscriptable",
     "output_type": "error",
     "traceback": [
      "\u001b[1;31m---------------------------------------------------------------------------\u001b[0m",
      "\u001b[1;31mTypeError\u001b[0m                                 Traceback (most recent call last)",
      "\u001b[1;32m~\\AppData\\Local\\Temp/ipykernel_10604/4099773193.py\u001b[0m in \u001b[0;36m<module>\u001b[1;34m\u001b[0m\n\u001b[0;32m      1\u001b[0m \u001b[0ma\u001b[0m\u001b[1;33m=\u001b[0m\u001b[1;36m123\u001b[0m\u001b[1;33m\u001b[0m\u001b[1;33m\u001b[0m\u001b[0m\n\u001b[1;32m----> 2\u001b[1;33m \u001b[0mprint\u001b[0m\u001b[1;33m(\u001b[0m\u001b[0ma\u001b[0m\u001b[1;33m[\u001b[0m\u001b[1;36m1\u001b[0m\u001b[1;33m]\u001b[0m\u001b[1;33m)\u001b[0m\u001b[1;33m\u001b[0m\u001b[1;33m\u001b[0m\u001b[0m\n\u001b[0m",
      "\u001b[1;31mTypeError\u001b[0m: 'int' object is not subscriptable"
     ]
    }
   ],
   "source": [
    "a=123\n",
    "print(a[1])"
   ]
  },
  {
   "cell_type": "markdown",
   "id": "9e90b8bd-8845-40a6-b45a-be79e96c0812",
   "metadata": {
    "tags": []
   },
   "source": [
    "### Exercise 7\n",
    "Which of the following will return the floating point number 2.0? Note: there may be more than one right answer."
   ]
  },
  {
   "cell_type": "code",
   "execution_count": 12,
   "id": "f3ce0983-d2b3-4f69-b470-572c315aa37a",
   "metadata": {},
   "outputs": [],
   "source": [
    "first = 1.0\n",
    "second = \"1\"\n",
    "third = \"1.1\""
   ]
  },
  {
   "cell_type": "markdown",
   "id": "07850592-416a-4bff-9313-d5b0997b7999",
   "metadata": {},
   "source": [
    "\n",
    "1. first + float(second)\n",
    "2. float(second) + float(third)\n",
    "3. first + int(third)\n",
    "4. first + int(float(third))\n",
    "5. int(first) + int(float(third))\n",
    "6. 2.0 * second\n"
   ]
  },
  {
   "cell_type": "markdown",
   "id": "dddab3f5-a2f9-495e-beca-cadac609e1cc",
   "metadata": {},
   "source": [
    "i predict getting\n",
    "1. 2.0\n",
    "2. 2.1\n",
    "3. 2.0 <span style=\"color:red\"> doesn't work at all, shows error </span>\n",
    "4. 2.0\n",
    "5. 2\n",
    "6. 2.0 <span style=\"color:red\"> doesn't work either </span>\n",
    "\n",
    "let's see <span style=\"color:red\"> we basically saw that int and float don't like to work together </span>"
   ]
  },
  {
   "cell_type": "code",
   "execution_count": 27,
   "id": "66f04b9f-6518-4663-9bbe-bb3a5ecf6371",
   "metadata": {},
   "outputs": [
    {
     "name": "stdout",
     "output_type": "stream",
     "text": [
      "1.  2.0\n",
      "2.  2.1\n",
      "4.  2.0\n",
      "5.  2\n"
     ]
    }
   ],
   "source": [
    "print('1. ', first + float(second) )\n",
    "print('2. ', float(second) + float(third) )\n",
    "#print('3. ', first + int(third) )\n",
    "print('4. ', first + int(float(third)) )\n",
    "print('5. ', int(first) + int(float(third)) )\n",
    "# print('6. ', 2.0 * second )"
   ]
  },
  {
   "cell_type": "markdown",
   "id": "df99ab88-7bb1-462f-aa05-d2c1410174a0",
   "metadata": {
    "tags": []
   },
   "source": [
    "### Exercise 8\n",
    "\n",
    "Write a for loop that prints on each line each character of the string \"palindromo\". Write a second for loop in which each time the character \"o\" is found, print it as upper case, i.e. \"O\"."
   ]
  },
  {
   "cell_type": "code",
   "execution_count": 20,
   "id": "22fb1cba-c4f5-4fa9-9841-f31a098a9f83",
   "metadata": {},
   "outputs": [
    {
     "name": "stdout",
     "output_type": "stream",
     "text": [
      "p\n",
      "a\n",
      "l\n",
      "i\n",
      "n\n",
      "d\n",
      "r\n",
      "o\n",
      "m\n",
      "o\n"
     ]
    }
   ],
   "source": [
    "a='palindromo'\n",
    "for idx in a:\n",
    "    print(idx)"
   ]
  },
  {
   "cell_type": "code",
   "execution_count": 22,
   "id": "242504d4-5c85-4da7-9ba6-a5b77db8bc8f",
   "metadata": {},
   "outputs": [
    {
     "name": "stdout",
     "output_type": "stream",
     "text": [
      "p\n",
      "a\n",
      "l\n",
      "i\n",
      "n\n",
      "d\n",
      "r\n",
      "O\n",
      "m\n",
      "O\n"
     ]
    }
   ],
   "source": [
    "a='palindromo'\n",
    "for idx in a:\n",
    "    if idx=='o':\n",
    "        print('O')\n",
    "    else:\n",
    "        print(idx)"
   ]
  },
  {
   "cell_type": "markdown",
   "id": "7c361c2f-7695-4dd8-baa2-ed9e2c0ef282",
   "metadata": {
    "tags": []
   },
   "source": [
    "### Exercise 9\n",
    "\n",
    "Use the built-in function `range` into a for loop to print the first 10 even numbers."
   ]
  },
  {
   "cell_type": "code",
   "execution_count": 26,
   "id": "773d71be-e7f5-444c-af92-75bdabf940dd",
   "metadata": {},
   "outputs": [
    {
     "name": "stdout",
     "output_type": "stream",
     "text": [
      "0\n",
      "2\n",
      "4\n",
      "6\n",
      "8\n",
      "10\n",
      "12\n",
      "14\n",
      "16\n",
      "18\n",
      "2\n",
      "4\n",
      "6\n",
      "8\n",
      "10\n",
      "12\n",
      "14\n",
      "16\n",
      "18\n",
      "20\n"
     ]
    }
   ],
   "source": [
    "for idx in range(10):\n",
    "    print(2*idx)\n",
    "\n",
    "# if you don't like considering 0 as an even number, we can do\n",
    "\n",
    "for idx in range(1,10+1):\n",
    "    print(2*idx)"
   ]
  },
  {
   "cell_type": "markdown",
   "id": "02032bee-59c5-4564-9d58-1e92168e059c",
   "metadata": {},
   "source": [
    "### Exercise 10\n",
    "\n",
    "To settle the debate of 0-based vs 1-based indexing I have created a language where you must explicitly state the range of indices an array should have.\n",
    "\n",
    "For example, given an array definition \"A[-1..1] = 1 2 3\", you would have:  \n",
    "\n",
    "A[-1] = 1  \n",
    "A[0] = 2  \n",
    "A[1] = 3  \n",
    "\n",
    "\n",
    "You are given a list of n array definitions and your job is to figure out what number is found in a given index i of an array arr. Note that the indexing operations may be nested (in the above example, A[A[-1]] would produce result 3).\n",
    "\n",
    "\n",
    "**Input**  \n",
    "\n",
    "Line 1: An integer n for the number of array assignments  \n",
    "\n",
    "Next n lines: One array assignment per line: array_identifier [ first_index .. last_index ] = last_index - first_index + 1 integers separated by space  \n",
    "\n",
    "Line n+2: Element to print: arr [ i ]"
   ]
  },
  {
   "cell_type": "code",
   "execution_count": 1,
   "id": "56eabfc1-e90a-40db-b97e-b0dcad55285b",
   "metadata": {},
   "outputs": [
    {
     "name": "stdout",
     "output_type": "stream",
     "text": [
      "B[-3]=11\n",
      "B[-2]=1\n",
      "B[-1]=2\n",
      "B[0]=3\n",
      "B[1]=4\n",
      "B[2]=5\n"
     ]
    }
   ],
   "source": [
    "#string=\"A[-1 0 1]=1 2 3\"\n",
    "string=\"B[-3,-2,-1,0,1,2]=[11,1,2,3,4,5]\"\n",
    "# to make this code more general, I initially state the separator that has been used to distinguish the numbers within the vectors\n",
    "# it must be the same within indexes and within values (for the sake of the code written down below, but not necessarily)\n",
    "#separator=' '\n",
    "separator=','\n",
    "# first I get the name of the variable \n",
    "name=string[0]\n",
    "# and I temporarily forget about it\n",
    "temp=string[1:]\n",
    "# I use the some strings methods to delete the weird characters that are still present\n",
    "temp1=temp.replace('[','')\n",
    "temp2=temp1.replace(']','')\n",
    "temp3=temp2.replace('=',separator)\n",
    "# to ultimately get a vector with just the imputs, separated by spaces \n",
    "# then I make use of said spaces to separate the numbers\n",
    "elements=temp3.split(separator)\n",
    "# I now know that what I have contains both the indexes and the variables, so its lenght is equal to double the number of\n",
    "# indexes/values inserted (which is going to correspond to the number of lines we're going to need)\n",
    "number=int(len(elements)/2)\n",
    "for idx in range(number):\n",
    "    print(name+'['+elements[idx]+']='+elements[number+idx])\n"
   ]
  },
  {
   "cell_type": "markdown",
   "id": "b2a53b37-0a12-4438-a0f3-5f6bffa3509b",
   "metadata": {},
   "source": [
    "### Exercise 11\n",
    "\n",
    "Write a program to check if a give number is a palindrome number. A palindrome number is a number that looks the same if read from left to right or from right to left. "
   ]
  },
  {
   "cell_type": "code",
   "execution_count": 60,
   "id": "409087ac-b459-4e17-b20e-cef511a90b24",
   "metadata": {},
   "outputs": [
    {
     "name": "stdout",
     "output_type": "stream",
     "text": [
      "the number is a palindrome\n"
     ]
    }
   ],
   "source": [
    "x=545\n",
    "string=str(x)\n",
    "opp_string=string[::-1] # the double : really makes a difference\n",
    "if string==opp_string:\n",
    "    print('the number is a palindrome')\n",
    "else:\n",
    "    print('the number is not a palindrome')"
   ]
  },
  {
   "cell_type": "code",
   "execution_count": null,
   "id": "2b538e49-3b78-464e-824f-8bdae05654b1",
   "metadata": {},
   "outputs": [],
   "source": []
  }
 ],
 "metadata": {
  "kernelspec": {
   "display_name": "Python 3 (ipykernel)",
   "language": "python",
   "name": "python3"
  },
  "language_info": {
   "codemirror_mode": {
    "name": "ipython",
    "version": 3
   },
   "file_extension": ".py",
   "mimetype": "text/x-python",
   "name": "python",
   "nbconvert_exporter": "python",
   "pygments_lexer": "ipython3",
   "version": "3.8.3"
  }
 },
 "nbformat": 4,
 "nbformat_minor": 5
}
