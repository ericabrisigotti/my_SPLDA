{
 "cells": [
  {
   "cell_type": "markdown",
   "id": "fb7c4add-614c-4675-8b2e-ce01be1718a4",
   "metadata": {},
   "source": [
    "# **python 3: essentials** - part 2/11"
   ]
  },
  {
   "cell_type": "markdown",
   "id": "5f934deb-22a4-4e8e-8080-93015720fd04",
   "metadata": {
    "tags": []
   },
   "source": [
    "## **lists** \n",
    "lists are non-specific containers/iterable ordered sequences of other variables types and can be defined by using square brackets and separating the variables within the same list with commas "
   ]
  },
  {
   "cell_type": "code",
   "execution_count": 22,
   "id": "6e6bd695-25c4-4e16-a45f-1e4d520f5892",
   "metadata": {},
   "outputs": [
    {
     "name": "stdout",
     "output_type": "stream",
     "text": [
      "k1 = [1, 2, 3, 4] ; the built-in data type of the variable k1 is <class 'list'>\n",
      "k11 = ['c', 'i', 'a', 'o'] ; the built-in data type of the variable k11 is <class 'list'>\n"
     ]
    }
   ],
   "source": [
    "k1=[1,2,3,4]\n",
    "print('k1 =',k1,'; the built-in data type of the variable k1 is',type(k1))\n",
    "# lists can also be defined by using the function list, which takes only one input\n",
    "k11=list('ciao')  # e.i. starting from a string or a tuple  (to modify them)\n",
    "print('k11 =',k11,'; the built-in data type of the variable k11 is',type(k11))"
   ]
  },
  {
   "cell_type": "markdown",
   "id": "99064f71-00ce-45a0-b7f2-4486553af24e",
   "metadata": {},
   "source": [
    "a list can contain items of different types: when a list contains other lists, we're dealing with **nested lists**:"
   ]
  },
  {
   "cell_type": "code",
   "execution_count": 23,
   "id": "ed5e52f8-e40f-4bc9-b43d-1d9330aeafa1",
   "metadata": {},
   "outputs": [
    {
     "name": "stdout",
     "output_type": "stream",
     "text": [
      "k3 = [[1, 2, 3, 4], [5, 6, 7, 8]] ; the built-in data type of the variable k3 is <class 'list'>\n"
     ]
    }
   ],
   "source": [
    "k2=[5,6,7,8]\n",
    "k3=[k1,k2]\n",
    "print('k3 =',k3,'; the built-in data type of the variable k3 is',type(k3))"
   ]
  },
  {
   "cell_type": "markdown",
   "id": "8cf9bf4e-be2a-413b-b826-bbc736de7a5d",
   "metadata": {},
   "source": [
    "since lists are iteable sequences, they can be indexed and sliced:"
   ]
  },
  {
   "cell_type": "code",
   "execution_count": 24,
   "id": "6679c2aa-c8ca-4647-99f4-3b276010ba2d",
   "metadata": {},
   "outputs": [
    {
     "name": "stdout",
     "output_type": "stream",
     "text": [
      "k4 = [1, 2] ; the built-in data type of the variable k4 is <class 'list'>\n"
     ]
    }
   ],
   "source": [
    "k4=k1[0:2]\n",
    "print('k4 =',k4,'; the built-in data type of the variable k4 is',type(k4))"
   ]
  },
  {
   "cell_type": "markdown",
   "id": "abb34ce4-ec77-4380-a1dd-83d73fee5134",
   "metadata": {},
   "source": [
    "they also support sum and multiplication, which are interpreted as concatenation and repetition: since the lists are ordered, sum is not commutative in this context:"
   ]
  },
  {
   "cell_type": "code",
   "execution_count": 25,
   "id": "aa606ada-1bcf-4184-82cb-f310ebcd0231",
   "metadata": {},
   "outputs": [
    {
     "name": "stdout",
     "output_type": "stream",
     "text": [
      "k5 = [1, 2, 3, 4, 5, 6, 7, 8] ; the built-in data type of the variable k5 is <class 'list'>\n",
      "k6 = [5, 6, 7, 8, 1, 2, 3, 4] ; the built-in data type of the variable k6 is <class 'list'>\n",
      "k7 = [1, 2, 3, 4, 1, 2, 3, 4, 1, 2, 3, 4] ; the built-in data type of the variable k7 is <class 'list'>\n"
     ]
    }
   ],
   "source": [
    "k5=k1+k2\n",
    "print('k5 =',k5,'; the built-in data type of the variable k5 is',type(k5))\n",
    "k6=k2+k1\n",
    "print('k6 =',k6,'; the built-in data type of the variable k6 is',type(k6))\n",
    "k7=k1*3\n",
    "print('k7 =',k7,'; the built-in data type of the variable k7 is',type(k7))"
   ]
  },
  {
   "cell_type": "markdown",
   "id": "0d07bc47-26f2-41c6-8aa4-4ececd2c3b00",
   "metadata": {},
   "source": [
    "lists are a **mutable** type of variable, their content can be changed:"
   ]
  },
  {
   "cell_type": "code",
   "execution_count": 26,
   "id": "7340cd79-996a-4b5f-a2d2-4d4f41cf3b0e",
   "metadata": {},
   "outputs": [
    {
     "name": "stdout",
     "output_type": "stream",
     "text": [
      "k8 = [10, 2, 3, 4] ; the built-in data type of the variable k8 is <class 'list'>\n"
     ]
    }
   ],
   "source": [
    "k8=k1\n",
    "k8[0]=10\n",
    "print('k8 =',k8,'; the built-in data type of the variable k8 is',type(k8))"
   ]
  },
  {
   "cell_type": "markdown",
   "id": "40b1f2ac-25d2-43cf-8174-c2296849e2a8",
   "metadata": {},
   "source": [
    "with tons of useful methods and suitable functions that can be used to work with strings: here are the most useful examples:"
   ]
  },
  {
   "cell_type": "code",
   "execution_count": 27,
   "id": "e440dfd4-cc85-4d9e-a1ca-c55d0df0fd8a",
   "metadata": {},
   "outputs": [
    {
     "name": "stdout",
     "output_type": "stream",
     "text": [
      "k9 = [1, 2, 3, 4, 5, 6, 7, 8, 10] ; the built-in data type of the variable k9 is <class 'list'>\n",
      "k10 = [1, 2, 3, 4, 5, 6, 7, 8, 9, 10] ; the built-in data type of the variable k10 is <class 'list'>\n"
     ]
    }
   ],
   "source": [
    "k9=k5\n",
    "k9.append(10)\n",
    "print('k9 =',k9,'; the built-in data type of the variable k9 is',type(k9))\n",
    "k10=k9\n",
    "k10.insert(8,9)\n",
    "print('k10 =',k10,'; the built-in data type of the variable k10 is',type(k10))"
   ]
  },
  {
   "cell_type": "markdown",
   "id": "0344df12-19bc-4c8e-ac0e-449220b1e82e",
   "metadata": {},
   "source": [
    "## **tuples** \n",
    "tuples are similar to lists but they are defined with round brackets and are **immutable** (aka they do not support item assignments): they usually come around as outputs of graphic functions and are employed (in terms of software design) mainly because they take up less space than lists"
   ]
  },
  {
   "cell_type": "code",
   "execution_count": 28,
   "id": "e3dcd2e3-f7c2-4530-8c37-8337d465ec31",
   "metadata": {},
   "outputs": [
    {
     "name": "stdout",
     "output_type": "stream",
     "text": [
      "l1 = (1, 2, 3, 4) ; the built-in data type of the variable l1 is <class 'tuple'>\n",
      "l2 = (5, 6, 7, 8) ; the built-in data type of the variable l2 is <class 'tuple'>\n",
      "l3 = ('c', 'i', 'a', 'o') ; the built-in data type of the variable l3 is <class 'tuple'>\n"
     ]
    }
   ],
   "source": [
    "l1=(1,2,3,4)\n",
    "print('l1 =',l1,'; the built-in data type of the variable l1 is',type(l1))\n",
    "# tuples are automatically defined when more than one value is assigned to a single variable\n",
    "l2=5,6,7,8\n",
    "print('l2 =',l2,'; the built-in data type of the variable l2 is',type(l2))\n",
    "# and can also be created by using the function tuple\n",
    "l3=tuple('ciao')\n",
    "print('l3 =',l3,'; the built-in data type of the variable l3 is',type(l3))"
   ]
  },
  {
   "cell_type": "markdown",
   "id": "11945450-a728-4a88-9723-d7c3c94781f4",
   "metadata": {
    "tags": []
   },
   "source": [
    "## **sets**\n",
    "\n",
    "A set is an **unordered** collection of unique/non-repeating elements. Basic uses include membership testing and eliminating duplicate entries. Set objects also support mathematical operations like union, intersection, difference.\n"
   ]
  },
  {
   "cell_type": "code",
   "execution_count": 1,
   "id": "fd1cd40b-640a-4440-ac1b-9ec7d65290f6",
   "metadata": {},
   "outputs": [
    {
     "data": {
      "text/plain": [
       "{2, 3, 4}"
      ]
     },
     "execution_count": 1,
     "metadata": {},
     "output_type": "execute_result"
    }
   ],
   "source": [
    "a={2,3}\n",
    "type(a)\n",
    "a.add(4)\n",
    "a"
   ]
  },
  {
   "cell_type": "markdown",
   "id": "ffe55072-bc8e-4b11-a9a5-68197b622e9f",
   "metadata": {},
   "source": [
    "\n",
    "|Operation | equivalent | result |\n",
    "|-|-|-|\n",
    "|s.issubset(t) | s <= t | test whether every element in s is in t |\n",
    "|s.issuperset(t)|s >= t|test whether every element in t is in s|\n",
    "|s.union(t)|s \\| t|new set with elements from both s and t|\n",
    "|s.intersection(t)|s & t|new set with elements common to s and t|\n",
    "|s.difference(t)|s - t|new set with elements in s but not in t|\n",
    "|s.symmetric_difference(t)|s ^ t|new set with elements in either s or t but not both|\n",
    "|s.copy()||new set with a shallow copy of s|\n",
    "\n",
    "Full documentation: [sets — Unordered collections of unique elements](https://docs.python.org/2/library/sets.html)"
   ]
  },
  {
   "cell_type": "markdown",
   "id": "5c7448fe-4e92-49af-adb8-5898127447d6",
   "metadata": {},
   "source": [
    "Creating a set from a list"
   ]
  },
  {
   "cell_type": "code",
   "execution_count": 2,
   "id": "20e875d2-c712-4881-9d0d-45ea368e9400",
   "metadata": {},
   "outputs": [
    {
     "name": "stdout",
     "output_type": "stream",
     "text": [
      "[1, 2, 3, 3]\n",
      "{1, 2, 3}\n"
     ]
    }
   ],
   "source": [
    "a = [1,2,3,3]\n",
    "print(a)\n",
    "b = set(a)\n",
    "print(b)"
   ]
  },
  {
   "cell_type": "markdown",
   "id": "2e9b4374-a33b-494c-88f3-d455d932c970",
   "metadata": {},
   "source": [
    "A set is not ordered but is iterable"
   ]
  },
  {
   "cell_type": "code",
   "execution_count": 3,
   "id": "1db5d71c-3fe0-4a18-8f5d-b091b37d4b02",
   "metadata": {},
   "outputs": [
    {
     "name": "stdout",
     "output_type": "stream",
     "text": [
      "2\n",
      "3\n",
      "4\n",
      "6\n",
      "7\n",
      "88\n"
     ]
    }
   ],
   "source": [
    "a = {88,3,4,6,7,7,7,7,2,2,3,3}\n",
    "for e in a:\n",
    "    print(e)"
   ]
  },
  {
   "cell_type": "markdown",
   "id": "e76197f2-409b-4566-9835-790fc15bd7f3",
   "metadata": {
    "tags": []
   },
   "source": [
    "## **dictionaries**"
   ]
  },
  {
   "cell_type": "markdown",
   "id": "ab9974ef-ba4b-4c4e-a3c8-6a57192e3fe4",
   "metadata": {},
   "source": [
    "Dictionaries are sometimes found in other languages as “associative memories” or “associative arrays”.\n",
    "\n",
    "It is best to think of a dictionary as a **set of key: value pairs**, with the requirement that the **keys are unique** (within one dictionary). \n",
    "\n",
    "A pair of braces creates an empty dictionary: {}\n",
    "\n",
    "Unlike sequences, which are indexed by a range of numbers, dictionaries are indexed by keys, which can be any immutable type; **strings and numbers can always be keys**"
   ]
  },
  {
   "cell_type": "code",
   "execution_count": 4,
   "id": "4b001477-8b2f-4be8-8bb8-b2eb32aff39a",
   "metadata": {},
   "outputs": [],
   "source": [
    "a = {'cat':10, 'dog':11, 9:4}"
   ]
  },
  {
   "cell_type": "code",
   "execution_count": 5,
   "id": "ab9e8f1d-6b71-40e3-83a6-0620c8155fa2",
   "metadata": {},
   "outputs": [
    {
     "data": {
      "text/plain": [
       "4"
      ]
     },
     "execution_count": 5,
     "metadata": {},
     "output_type": "execute_result"
    }
   ],
   "source": [
    "a[9]"
   ]
  },
  {
   "cell_type": "code",
   "execution_count": 6,
   "id": "53c44e4d-8d37-4e14-969d-7cb060f03be5",
   "metadata": {},
   "outputs": [
    {
     "data": {
      "text/plain": [
       "{'cat': 10, 'dog': 11}"
      ]
     },
     "execution_count": 6,
     "metadata": {},
     "output_type": "execute_result"
    }
   ],
   "source": [
    "del a[9]\n",
    "a"
   ]
  },
  {
   "cell_type": "markdown",
   "id": "26f32ec0-9d6e-4068-a674-0b631c2b07f6",
   "metadata": {},
   "source": [
    "When the keys are just strings a convenient way of creating a dictionary is:"
   ]
  },
  {
   "cell_type": "code",
   "execution_count": 7,
   "id": "e78e381f-43b3-4467-a33e-059ba23f3bf1",
   "metadata": {},
   "outputs": [
    {
     "data": {
      "text/plain": [
       "{'cat': 9, 'dog': 89}"
      ]
     },
     "execution_count": 7,
     "metadata": {},
     "output_type": "execute_result"
    }
   ],
   "source": [
    "dict(cat=9, dog=89)"
   ]
  },
  {
   "cell_type": "markdown",
   "id": "39e4c570-d96c-44e2-bd07-40fafbf42390",
   "metadata": {},
   "source": [
    "Adding a new element"
   ]
  },
  {
   "cell_type": "code",
   "execution_count": 8,
   "id": "87c187a2-e9dd-4512-a63d-553829e3e56c",
   "metadata": {},
   "outputs": [
    {
     "data": {
      "text/plain": [
       "{'cat': 10, 'dog': 11, 'other': 18}"
      ]
     },
     "execution_count": 8,
     "metadata": {},
     "output_type": "execute_result"
    }
   ],
   "source": [
    "a['other']=18\n",
    "a"
   ]
  },
  {
   "cell_type": "markdown",
   "id": "1c221eac-6092-4936-a30e-e54e2c5d6b46",
   "metadata": {},
   "source": [
    "Two fundamental methods: **.keys** , **.values** and **items** (see the full documentation [here](https://docs.python.org/3/library/stdtypes.html#mapping-types-dict))"
   ]
  },
  {
   "cell_type": "code",
   "execution_count": 9,
   "id": "59986c7d-80d0-449b-bcc6-ec988054676d",
   "metadata": {},
   "outputs": [
    {
     "name": "stdout",
     "output_type": "stream",
     "text": [
      "cat\n",
      "dog\n",
      "other\n"
     ]
    }
   ],
   "source": [
    "for e in a.keys():\n",
    "    print(e)"
   ]
  },
  {
   "cell_type": "code",
   "execution_count": 10,
   "id": "65197d9c-8a99-4866-a6fc-00bbc545d5e5",
   "metadata": {},
   "outputs": [
    {
     "name": "stdout",
     "output_type": "stream",
     "text": [
      "10\n",
      "11\n",
      "18\n"
     ]
    }
   ],
   "source": [
    "for e in a.values():\n",
    "    print(e)"
   ]
  },
  {
   "cell_type": "code",
   "execution_count": 11,
   "id": "410c0c14-de3b-49d5-85c0-7aa449e30068",
   "metadata": {},
   "outputs": [
    {
     "name": "stdout",
     "output_type": "stream",
     "text": [
      "('cat', 10)\n",
      "('dog', 11)\n",
      "('other', 18)\n"
     ]
    }
   ],
   "source": [
    "for e in a.items():\n",
    "    print(e)"
   ]
  },
  {
   "cell_type": "markdown",
   "id": "3c5f3db8-f1ea-4a48-b091-873d49d96bcf",
   "metadata": {
    "tags": []
   },
   "source": [
    "## **List comprehension**\n",
    "provides an more conciese way to create lists (and other collection-type objects) through the use of for-loops"
   ]
  },
  {
   "cell_type": "code",
   "execution_count": 7,
   "id": "48795f31-70e0-458a-a99e-ed91e9782811",
   "metadata": {},
   "outputs": [
    {
     "name": "stdout",
     "output_type": "stream",
     "text": [
      "[1, 4, 9, 16, 25, 36, 49, 64, 81, 100]\n",
      "[1, 4, 9, 16, 25, 36, 49, 64, 81, 100]\n"
     ]
    }
   ],
   "source": [
    "# let's compile a list with the square of the first 10 integer numbers\n",
    "c12=[]\n",
    "for c13 in range(1,11):\n",
    "    c12.append(c13**2)\n",
    "print(c12)\n",
    "    \n",
    "c14=[c15**2 for c15 in range(1,11)]\n",
    "print(c14)"
   ]
  },
  {
   "cell_type": "code",
   "execution_count": 8,
   "id": "93ed1b74-46fe-489d-8345-732eb69e4824",
   "metadata": {},
   "outputs": [
    {
     "name": "stdout",
     "output_type": "stream",
     "text": [
      "[0, 2, 4, 6, 8, 10]\n",
      "[0, 2, 4, 6, 8, 10]\n"
     ]
    }
   ],
   "source": [
    "# let's compile a list with the even numbers smaller than 11\n",
    "c16=[]\n",
    "for c17 in range(11):\n",
    "    if c17%2==0:\n",
    "        c16.append(c17)\n",
    "print(c16)\n",
    "    \n",
    "c18=[c19 for c19 in range(11) if c19%2==0]\n",
    "print(c18)"
   ]
  }
 ],
 "metadata": {
  "kernelspec": {
   "display_name": "Python 3 (ipykernel)",
   "language": "python",
   "name": "python3"
  },
  "language_info": {
   "codemirror_mode": {
    "name": "ipython",
    "version": 3
   },
   "file_extension": ".py",
   "mimetype": "text/x-python",
   "name": "python",
   "nbconvert_exporter": "python",
   "pygments_lexer": "ipython3",
   "version": "3.10.8"
  }
 },
 "nbformat": 4,
 "nbformat_minor": 5
}
