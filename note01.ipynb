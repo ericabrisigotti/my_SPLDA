{
 "cells": [
  {
   "cell_type": "markdown",
   "id": "ea923a0a-5256-4e68-8fa5-34ed81a90557",
   "metadata": {},
   "source": [
    "# **python 3: essentials** - part 1/11\n",
    "\n",
    "for details on all the **built-in** functions, see: https://docs.python.org/3/library/functions.html (please not that **sqrt** is not a built-in function, but can be found in the math, cmath and numpy modules)"
   ]
  },
  {
   "cell_type": "markdown",
   "id": "89b7c60c-14be-4864-bc59-50e6a44c3923",
   "metadata": {
    "jp-MarkdownHeadingCollapsed": true,
    "tags": []
   },
   "source": [
    "## **general introduction**"
   ]
  },
  {
   "cell_type": "markdown",
   "id": "5022a7fa-2db4-4bfe-b748-07e82cd005ea",
   "metadata": {
    "tags": []
   },
   "source": [
    "- Python is an interpreted (i.e. not compiled, the code is \"interpreted\" at run-time), object-oriented (i.e. oriented toward creation of \"objects\", which may contain data in the form of fields), high-level programming language with dynamic semantics. Its high-level built in data structures, combined with dynamic typing and dynamic binding, make it very attractive for rapid application development, as well as for use as a scripting language to connect existing components together. It is characterised by modularity, readability and easy to learn syntax.\n",
    "- Python has no command for declaring the variable type. A variable is created the moment you first assign a value to it. Variables usually do not need to be declared with any particular type and can even change type after they have been set (you are actually using the same name for a new variable, in that case). Finally, variable names are case sensitive, can only contain alpha-numeric characters and underscores (A-z, 0-9, and _ ) and can start only with a letter or the underscore character.\n",
    "- Python uses **new lines to complete a command** (i.e. each instruction has to start in a new line), as opposed to other programming languages which often use semicolons (like C/C++, Java etc.) or parentheses. (Note: semicolons can be also be accepted, probably because of C heritage)"
   ]
  },
  {
   "cell_type": "code",
   "execution_count": 7,
   "id": "b827b804-2ad4-4c4c-87a8-16e1cf8cbe8e",
   "metadata": {},
   "outputs": [
    {
     "name": "stdout",
     "output_type": "stream",
     "text": [
      "5\n",
      "Hello World!\n",
      "Hello again!\n"
     ]
    }
   ],
   "source": [
    "x = 5\n",
    "y = \"Hello World!\"\n",
    "print(x)\n",
    "print(y)\n",
    "x = \"Hello again!\"\n",
    "print(x)"
   ]
  },
  {
   "cell_type": "code",
   "execution_count": 2,
   "id": "79f3391d-aeed-4079-8bff-4383404e183a",
   "metadata": {},
   "outputs": [
    {
     "ename": "SyntaxError",
     "evalue": "invalid syntax (<ipython-input-2-784af382fbb2>, line 1)",
     "output_type": "error",
     "traceback": [
      "\u001b[0;36m  File \u001b[0;32m\"<ipython-input-2-784af382fbb2>\"\u001b[0;36m, line \u001b[0;32m1\u001b[0m\n\u001b[0;31m    print(\"Hello, World!\") print(\"Hello, again!\")\u001b[0m\n\u001b[0m                           ^\u001b[0m\n\u001b[0;31mSyntaxError\u001b[0m\u001b[0;31m:\u001b[0m invalid syntax\n"
     ]
    }
   ],
   "source": [
    "print(\"Hello, World!\") print(\"Hello, again!\")"
   ]
  },
  {
   "cell_type": "markdown",
   "id": "11885523-d730-4a1d-979a-8fcde0936b95",
   "metadata": {},
   "source": [
    "- **Comments** start with `#`, and Python will render the rest of the line as a comment: another kind of comment is represented by **docstrings**. A docstring is a string that usually occurs as the first statement in a module, function, class, or method definition. The role of docstrings is to provide a convenient way of associating documentation to any defined object. Docstrings can also be accessed by the __doc__ attribute on objects actually providing a handy run time help tool. Docstring can be split on several lines and must begin and end with triple quotes"
   ]
  },
  {
   "cell_type": "code",
   "execution_count": 5,
   "id": "dc0d98b7-6b04-4f71-9d01-134fd481ac3f",
   "metadata": {},
   "outputs": [
    {
     "name": "stdout",
     "output_type": "stream",
     "text": [
      "Hello, World!\n"
     ]
    }
   ],
   "source": [
    "# This is a comment. Comment lines start with a hash (#)\n",
    "print(\"Hello, World!\") # you can also add a comment at the end of a line"
   ]
  },
  {
   "cell_type": "code",
   "execution_count": 6,
   "id": "7d755a1d-b00c-4b8e-bb2b-fc92af64a98b",
   "metadata": {},
   "outputs": [
    {
     "name": "stdout",
     "output_type": "stream",
     "text": [
      "Hello, World!\n"
     ]
    }
   ],
   "source": [
    "\"\"\"\n",
    "This is a\n",
    "multiline docstring. It is\n",
    "enclosed by three double-quotes,\n",
    "and it can be either a comment\n",
    "or contain documentation text\n",
    "if placed at the beginning of\n",
    "a function or class or other objects.\n",
    "\"\"\"\n",
    "\n",
    "print(\"Hello, World!\")"
   ]
  },
  {
   "cell_type": "markdown",
   "id": "781eb267-ba31-40e6-9524-5b215548569a",
   "metadata": {},
   "source": [
    "- an easy way to assign multiple valutes to multiple variables (aka **multiple variable assignment**) in a single line of code is:"
   ]
  },
  {
   "cell_type": "code",
   "execution_count": 4,
   "id": "c3810630-67f8-41f4-a9cc-34449baf6923",
   "metadata": {},
   "outputs": [
    {
     "name": "stdout",
     "output_type": "stream",
     "text": [
      "1 ciao 3.25\n",
      "44 44 44\n"
     ]
    }
   ],
   "source": [
    "e1,e2,e3=1,'ciao',3.25\n",
    "print(e1,e2,e3)\n",
    "# this sintax is also valid\n",
    "e4= e5= e6=44\n",
    "print(e4,e5,e6)"
   ]
  },
  {
   "cell_type": "markdown",
   "id": "e4781e65-dcec-414d-8ea5-ad310781b1d3",
   "metadata": {},
   "source": [
    "- **indexing** starts from 0 and **slicing** does NOT include the last/right index $n_2$ (when recalling a index interval $[0,n_2]$)"
   ]
  },
  {
   "cell_type": "code",
   "execution_count": 5,
   "id": "7150c6f4-9f50-43f5-8b81-c07e427e0625",
   "metadata": {},
   "outputs": [
    {
     "name": "stdout",
     "output_type": "stream",
     "text": [
      "[0, 1, 2, 3, 4]\n"
     ]
    }
   ],
   "source": [
    "a1=[0,1,2,3,4,5,6,7]\n",
    "print(a1[:5])"
   ]
  },
  {
   "cell_type": "markdown",
   "id": "c27b4bd7-cd74-46c4-b9dd-c6b82b4c9388",
   "metadata": {},
   "source": [
    "- **indentation** (the whitespace to the left of nested statements) is part of the syntax and is used to determine where a block starts and stops: it doesn't matter how (tabs/spaces) or how much you indent, as long as all of the statements of a single nested block are indented at the same distance to the right (otherwise you will get a sintax error) and is needed to to define the scope (i.e. the region of the code where something that has been defined or created can be correctly used) of logic statements, loops, functions and classes. A major reason behind this deliberate feature of Python is the uniform, regular and readable (thus reusable and mantainable) code that is obtained by forcing programmers to indent. Other programming languages (like C/C++) often use curly-brackets for this purpose. Python will give you an error if you skip the indentation:"
   ]
  },
  {
   "cell_type": "code",
   "execution_count": 3,
   "id": "ec0a00f5-6660-448d-a011-a796b11caf7a",
   "metadata": {},
   "outputs": [
    {
     "name": "stdout",
     "output_type": "stream",
     "text": [
      "3 > 2\n"
     ]
    }
   ],
   "source": [
    "if 3 > 2:\n",
    "    print(\"3 > 2\")"
   ]
  },
  {
   "cell_type": "code",
   "execution_count": 4,
   "id": "e107ac2c-ed1b-4e42-9655-fd4c162c4075",
   "metadata": {},
   "outputs": [
    {
     "ename": "IndentationError",
     "evalue": "expected an indented block (<ipython-input-4-386cd53e4ddb>, line 2)",
     "output_type": "error",
     "traceback": [
      "\u001b[0;36m  File \u001b[0;32m\"<ipython-input-4-386cd53e4ddb>\"\u001b[0;36m, line \u001b[0;32m2\u001b[0m\n\u001b[0;31m    print(\"3 > 2\")\u001b[0m\n\u001b[0m    ^\u001b[0m\n\u001b[0;31mIndentationError\u001b[0m\u001b[0;31m:\u001b[0m expected an indented block\n"
     ]
    }
   ],
   "source": [
    "if 3 > 2:\n",
    "print(\"3 > 2\")"
   ]
  },
  {
   "cell_type": "markdown",
   "id": "debd74e9-605a-4c96-a3c8-c8f943995e59",
   "metadata": {},
   "source": [
    "- **sum** and **multiplication** work not only with integers and floating point numbers but also with strings (which are joined or repeated) and booleans (which are actually treated automatically as integers 1 or 0)"
   ]
  },
  {
   "cell_type": "code",
   "execution_count": 22,
   "id": "e4aadbd5-a9d9-4015-bf28-84586b6bb4d9",
   "metadata": {},
   "outputs": [
    {
     "name": "stdout",
     "output_type": "stream",
     "text": [
      "hello world\n",
      "1 2 0\n"
     ]
    }
   ],
   "source": [
    "b1,b2='hello','world'\n",
    "print(b1+' '+b2)\n",
    "b3,b4=True,False\n",
    "print(b3+b4,b3*2,b4*-3)"
   ]
  },
  {
   "cell_type": "markdown",
   "id": "239b692e-c8d6-4a05-9b04-c4d7a79b40b3",
   "metadata": {},
   "source": [
    "- on Jupyter notebooks, the **shift + tab keyboard shortcut** enables the user to see the details of the variables by simply locating the cursor to the right of the variable of interest. An equivalent result can be obtained by writing a **question mark ?** to the right of a variable"
   ]
  },
  {
   "cell_type": "code",
   "execution_count": 1,
   "id": "a7f64806-f3da-4622-b642-de593cf49493",
   "metadata": {},
   "outputs": [
    {
     "data": {
      "text/plain": [
       "\u001b[1;31mType:\u001b[0m        list\n",
       "\u001b[1;31mString form:\u001b[0m [1, 2, 3, 4]\n",
       "\u001b[1;31mLength:\u001b[0m      4\n",
       "\u001b[1;31mDocstring:\u001b[0m  \n",
       "Built-in mutable sequence.\n",
       "\n",
       "If no argument is given, the constructor creates a new empty list.\n",
       "The argument must be an iterable if specified.\n"
      ]
     },
     "metadata": {},
     "output_type": "display_data"
    }
   ],
   "source": [
    "c1=[1,2,3,4] # in addition, push both tab and shift to show the same result as below\n",
    "c1?"
   ]
  },
  {
   "cell_type": "markdown",
   "id": "b154f48b-38b7-48a1-99b0-d62e6619ca6c",
   "metadata": {},
   "source": [
    "- **callable** is a function that tests weather or not the input can be called"
   ]
  },
  {
   "cell_type": "markdown",
   "id": "ace7a17e-cd14-4f89-b957-c92c3cbfbd18",
   "metadata": {},
   "source": [
    "- **dir** returns the attributes of a variable: a very similar result can be obtained by writing the variable followed by a dot, and then using the **tab keyboard shortcut**. \\\n",
    "The only difference between the two methods is that the first one shows additional methods (called **dunder methods**), which stand out from the usual ones because of the double underscore surrounding them. This notation, called **name mangling**, is not a convention: it has a specific meaning to the interpreter, which automatically changes the name of a variable in a way to make it harder to create collisions (overridden variables in subclasses) when a class is extended. In addition to this, the complicated names that are assigned automatically gently remind the user that they are "
   ]
  },
  {
   "cell_type": "code",
   "execution_count": 12,
   "id": "8101217c-aa18-47b7-899e-43fa321d5254",
   "metadata": {
    "collapsed": true,
    "jupyter": {
     "outputs_hidden": true
    }
   },
   "outputs": [
    {
     "data": {
      "text/plain": [
       "['__add__',\n",
       " '__class__',\n",
       " '__contains__',\n",
       " '__delattr__',\n",
       " '__dir__',\n",
       " '__doc__',\n",
       " '__eq__',\n",
       " '__format__',\n",
       " '__ge__',\n",
       " '__getattribute__',\n",
       " '__getitem__',\n",
       " '__getnewargs__',\n",
       " '__gt__',\n",
       " '__hash__',\n",
       " '__init__',\n",
       " '__init_subclass__',\n",
       " '__iter__',\n",
       " '__le__',\n",
       " '__len__',\n",
       " '__lt__',\n",
       " '__mod__',\n",
       " '__mul__',\n",
       " '__ne__',\n",
       " '__new__',\n",
       " '__reduce__',\n",
       " '__reduce_ex__',\n",
       " '__repr__',\n",
       " '__rmod__',\n",
       " '__rmul__',\n",
       " '__setattr__',\n",
       " '__sizeof__',\n",
       " '__str__',\n",
       " '__subclasshook__',\n",
       " 'capitalize',\n",
       " 'casefold',\n",
       " 'center',\n",
       " 'count',\n",
       " 'encode',\n",
       " 'endswith',\n",
       " 'expandtabs',\n",
       " 'find',\n",
       " 'format',\n",
       " 'format_map',\n",
       " 'index',\n",
       " 'isalnum',\n",
       " 'isalpha',\n",
       " 'isascii',\n",
       " 'isdecimal',\n",
       " 'isdigit',\n",
       " 'isidentifier',\n",
       " 'islower',\n",
       " 'isnumeric',\n",
       " 'isprintable',\n",
       " 'isspace',\n",
       " 'istitle',\n",
       " 'isupper',\n",
       " 'join',\n",
       " 'ljust',\n",
       " 'lower',\n",
       " 'lstrip',\n",
       " 'maketrans',\n",
       " 'partition',\n",
       " 'replace',\n",
       " 'rfind',\n",
       " 'rindex',\n",
       " 'rjust',\n",
       " 'rpartition',\n",
       " 'rsplit',\n",
       " 'rstrip',\n",
       " 'split',\n",
       " 'splitlines',\n",
       " 'startswith',\n",
       " 'strip',\n",
       " 'swapcase',\n",
       " 'title',\n",
       " 'translate',\n",
       " 'upper',\n",
       " 'zfill']"
      ]
     },
     "execution_count": 12,
     "metadata": {},
     "output_type": "execute_result"
    }
   ],
   "source": [
    "d1='ciao'\n",
    "dir(d1)\n",
    "d1. # please push tab"
   ]
  },
  {
   "cell_type": "markdown",
   "id": "c714cc5e-4bfe-4832-9a38-6095c5dde24f",
   "metadata": {
    "tags": []
   },
   "source": [
    "- **type** returns the class type of the input"
   ]
  },
  {
   "cell_type": "code",
   "execution_count": 20,
   "id": "d05edb2c-cd93-4684-951e-8662fc2ed6db",
   "metadata": {},
   "outputs": [
    {
     "name": "stdout",
     "output_type": "stream",
     "text": [
      "f1 = 1 ; the built-in data type of the variable f1 is <class 'int'>\n",
      "f2 = ciao ; the built-in data type of the variable f2 is <class 'str'>\n",
      "f3 = 3.25 ; the built-in data type of the variable f3 is <class 'float'>\n",
      "f4 = (1+3j) ; the built-in data type of the variable f4 is <class 'complex'>\n",
      "f5 = True ; the built-in data type of the variable f5 is <class 'bool'>\n",
      "f6 = [5, 6, 7] ; the built-in data type of the variable f6 is <class 'list'>\n",
      "f7 = (13, 15) ; the built-in data type of the variable f7 is <class 'tuple'>\n",
      "f8 = {20, 30} ; the built-in data type of the variable f8 is <class 'set'>\n"
     ]
    }
   ],
   "source": [
    "f1,f2,f3,f4,f5,f6,f7,f8=1,'ciao',3.25,1+3j,True,[5,6,7],(13,15),{20,30}\n",
    "print('f1 =',f1, '; the built-in data type of the variable f1 is',type(f1))\n",
    "print('f2 =',f2, '; the built-in data type of the variable f2 is',type(f2))\n",
    "print('f3 =',f3, '; the built-in data type of the variable f3 is',type(f3))\n",
    "print('f4 =',f4, '; the built-in data type of the variable f4 is',type(f4))\n",
    "print('f5 =',f5, '; the built-in data type of the variable f5 is',type(f5))\n",
    "print('f6 =',f6, '; the built-in data type of the variable f6 is',type(f6))\n",
    "print('f7 =',f7, '; the built-in data type of the variable f7 is',type(f7))\n",
    "print('f8 =',f8, '; the built-in data type of the variable f8 is',type(f8))"
   ]
  },
  {
   "cell_type": "markdown",
   "id": "409f04f6-21b4-45ee-938b-c2b137d7a863",
   "metadata": {},
   "source": [
    "- **print** returns the value of the variable in input and it's essential to understanding what's going on inside a piece of code"
   ]
  },
  {
   "cell_type": "code",
   "execution_count": 21,
   "id": "b32f651a-f50b-4a75-87a4-c7e090478367",
   "metadata": {},
   "outputs": [
    {
     "name": "stdout",
     "output_type": "stream",
     "text": [
      "12345\n"
     ]
    }
   ],
   "source": [
    "g1=12345\n",
    "print(g1)"
   ]
  },
  {
   "cell_type": "markdown",
   "id": "53da571b-27a3-4ea7-b61e-8f4d90045fd5",
   "metadata": {},
   "source": [
    "- to spit the same line of code between different lines, use a backslash before switching line (when it comes to strings, you can actually use triple apostrophe'''...''' instead of the single '...')\n",
    "\n",
    "- to learn wheather or not a certain word can be used as the name of a function, you can use the function **callable**"
   ]
  },
  {
   "cell_type": "code",
   "execution_count": 24,
   "id": "36b9c51a-d21b-44f8-84bd-5c47f831b414",
   "metadata": {},
   "outputs": [
    {
     "name": "stdout",
     "output_type": "stream",
     "text": [
      "False\n",
      "True\n"
     ]
    }
   ],
   "source": [
    "x=5\n",
    "print(callable(x)) # x isn't callable because it's just a variable/number\n",
    "print(callable(max)) # instead, max is a function and can therefore be called"
   ]
  },
  {
   "cell_type": "markdown",
   "id": "69df534e-c2d5-4c7c-b341-89756e7c72db",
   "metadata": {},
   "source": [
    "- **len** lets you know how long the input variable is"
   ]
  },
  {
   "cell_type": "code",
   "execution_count": 30,
   "id": "75245629-9567-4d76-83a4-62d1c9547b52",
   "metadata": {},
   "outputs": [
    {
     "name": "stdout",
     "output_type": "stream",
     "text": [
      "5\n",
      "3\n"
     ]
    }
   ],
   "source": [
    "a='erica'\n",
    "b=[3,4,5]\n",
    "print(len(a))\n",
    "print(len(b))"
   ]
  },
  {
   "cell_type": "markdown",
   "id": "d91432e4-3895-4bc4-90e5-942796d437ff",
   "metadata": {
    "tags": []
   },
   "source": [
    "- on Jupyter notebooks, you can easily split with two cells by using the **keyboard shortcut ctrl + shift + -**. You can also add another cell before or after the current one by single clicking the cell and later A or B.\n",
    "\n",
    "- the **max** and **min** functions can have a single or multiple inputs, and work both with numbers and characters "
   ]
  },
  {
   "cell_type": "code",
   "execution_count": 33,
   "id": "3115ea7d-81a9-4bc2-aea8-944e6fbae98d",
   "metadata": {},
   "outputs": [
    {
     "name": "stdout",
     "output_type": "stream",
     "text": [
      "5\n",
      "3\n",
      "7\n",
      "5\n"
     ]
    }
   ],
   "source": [
    "print(max(3,4,5))\n",
    "print(min(3,4,5))\n",
    "print(max([5,6,7]))\n",
    "print(min([5,6,7]))"
   ]
  },
  {
   "cell_type": "markdown",
   "id": "5bc3a88c-4ae0-4514-a68b-6b624ded30d9",
   "metadata": {
    "jp-MarkdownHeadingCollapsed": true,
    "tags": []
   },
   "source": [
    "## **integers** \n",
    "integers are "
   ]
  },
  {
   "cell_type": "code",
   "execution_count": 4,
   "id": "cccb47c4-b866-45ed-9b7e-1f6ec96ea57c",
   "metadata": {
    "tags": []
   },
   "outputs": [
    {
     "name": "stdout",
     "output_type": "stream",
     "text": [
      "b1 = 1 ; the built-in data type of the variable b1 is <class 'int'>\n",
      "b2 = 1000 ; the built-in data type of the variable b2 is <class 'int'>\n",
      "b3 = 100000001 ; the built-in data type of the variable b3 is <class 'int'>\n"
     ]
    }
   ],
   "source": [
    "# all numbers not followed by dots are automatically defined as integers\n",
    "b1=1\n",
    "print('b1 =',b1, '; the built-in data type of the variable b1 is',type(b1))\n",
    "b2=1000\n",
    "print('b2 =',b2, '; the built-in data type of the variable b2 is',type(b2))\n",
    "# even the bigger ones written with underscores to be more legible\n",
    "b3=100_000_001\n",
    "print('b3 =',b3, '; the built-in data type of the variable b3 is',type(b3))"
   ]
  },
  {
   "cell_type": "code",
   "execution_count": 5,
   "id": "69cd8336-a07a-4f78-81a7-db3c8ea42383",
   "metadata": {},
   "outputs": [
    {
     "name": "stdout",
     "output_type": "stream",
     "text": [
      "c1 = 1 ; the built-in data type of the variable c1 is <class 'int'>\n",
      "c2 = 0 ; the built-in data type of the variable c2 is <class 'int'>\n",
      "c3 = 12 ; the built-in data type of the variable c3 is <class 'int'>\n"
     ]
    }
   ],
   "source": [
    "# to purposely define a integer number (for example, instead of a boolean), \n",
    "# you can use the dedicated function int(...):\n",
    "c1=int(1)\n",
    "print('c1 =',c1, '; the built-in data type of the variable c1 is',type(c1))\n",
    "c2=int(False)\n",
    "print('c2 =',c2, '; the built-in data type of the variable c2 is',type(c2))\n",
    "c3=int(12.8)\n",
    "print('c3 =',c3, '; the built-in data type of the variable c3 is',type(c3))\n",
    "# when the input is a floating point number (non-integer bumber), \n",
    "# the output is always the rounded-down value"
   ]
  },
  {
   "cell_type": "markdown",
   "id": "fdf3a59c-ce12-4f05-bbbb-6780241f12a1",
   "metadata": {},
   "source": [
    "A sequence of decimal digits without any prefix is interpreted as a decimal number.\n",
    "\n",
    "Defining a number with a base different from 10 is possible, by using prefixes such as the ones in the \n",
    "following examples, but the result automatically is shown as a decimal number:"
   ]
  },
  {
   "cell_type": "code",
   "execution_count": 6,
   "id": "becb0f78-96c6-4a0f-8395-6d37ccf73b00",
   "metadata": {},
   "outputs": [
    {
     "name": "stdout",
     "output_type": "stream",
     "text": [
      "d1 = 5 ; the built-in data type of the variable d1 is <class 'int'>\n",
      "d2 = 14 ; the built-in data type of the variable d2 is <class 'int'>\n",
      "d3 = 10 ; the built-in data type of the variable d3 is <class 'int'>\n"
     ]
    }
   ],
   "source": [
    "# binary numbers can be defined by adding (before the value) 0b or 0B \n",
    "# (zero + uppercase/lowercase letter 'B')\n",
    "d1=0b101\n",
    "print('d1 =',d1, '; the built-in data type of the variable d1 is',type(d1))\n",
    "\n",
    "# octal numbers can be defined by adding (before the value) 0o or 0O \n",
    "# (zero + uppercase/lowercase letter 'O')\n",
    "d2=0o016\n",
    "print('d2 =',d2, '; the built-in data type of the variable d2 is',type(d2))\n",
    "    \n",
    "# hexadecimal numbers can be defined by adding (before the value) 0x or 0X \n",
    "# (zero + lowercase\\uppercade letter 'X')\n",
    "d3=0xa\n",
    "print('d3 =',d3, '; the built-in data type of the variable d3 is',type(d3))"
   ]
  },
  {
   "cell_type": "markdown",
   "id": "e00ba9c3-6a28-4537-ae0f-2c2d76a00fb0",
   "metadata": {
    "jp-MarkdownHeadingCollapsed": true,
    "tags": []
   },
   "source": [
    "## **floating point numbers** \n",
    "floating point numbers are defined by using a dot in the definition of a number"
   ]
  },
  {
   "cell_type": "code",
   "execution_count": 7,
   "id": "47b3c87e-c42a-438d-9f40-e3b64bc4347b",
   "metadata": {},
   "outputs": [
    {
     "name": "stdout",
     "output_type": "stream",
     "text": [
      "f1 = 5.6 ; the built-in data type of the variable f1 is <class 'float'>\n",
      "f2 = 4.0 ; the built-in data type of the variable f2 is <class 'float'>\n",
      "f3 = 0.5 ; the built-in data type of the variable f3 is <class 'float'>\n"
     ]
    }
   ],
   "source": [
    "f1,f2,f3=5.6, 4., 1/2\n",
    "print('f1 =',f1, '; the built-in data type of the variable f1 is',type(f1))\n",
    "print('f2 =',f2, '; the built-in data type of the variable f2 is',type(f2))\n",
    "print('f3 =',f3, '; the built-in data type of the variable f3 is',type(f3))"
   ]
  },
  {
   "cell_type": "code",
   "execution_count": 8,
   "id": "fdb1ef71-999f-49bb-82aa-0830473464a2",
   "metadata": {},
   "outputs": [
    {
     "name": "stdout",
     "output_type": "stream",
     "text": [
      "f4 = 3.0 ; the built-in data type of the variable f4 is <class 'float'>\n",
      "f5 = 1.0 ; the built-in data type of the variable f5 is <class 'float'>\n"
     ]
    }
   ],
   "source": [
    "# to purposely define a floating point number (for example, instead of an integer), \n",
    "# you can use the dedicated function float(...):\n",
    "f4,f5=float(3),float(True)\n",
    "print('f4 =',f4, '; the built-in data type of the variable f4 is',type(f4))\n",
    "print('f5 =',f5, '; the built-in data type of the variable f5 is',type(f5))"
   ]
  },
  {
   "cell_type": "markdown",
   "id": "22d7a98b-cb51-4c19-9951-bf0794eb6ee1",
   "metadata": {},
   "source": [
    "scientific notation is also supported"
   ]
  },
  {
   "cell_type": "code",
   "execution_count": 9,
   "id": "93cb0f42-3c1c-40b6-8d1b-1fbd05bd2747",
   "metadata": {},
   "outputs": [
    {
     "name": "stdout",
     "output_type": "stream",
     "text": [
      "f6 = 10000.0 ; the built-in data type of the variable f6 is <class 'float'>\n",
      "f7 = 0.0053 ; the built-in data type of the variable f7 is <class 'float'>\n"
     ]
    }
   ],
   "source": [
    "f6,f7=1e4,5.3e-3\n",
    "print('f6 =',f6, '; the built-in data type of the variable f6 is',type(f6))\n",
    "print('f7 =',f7, '; the built-in data type of the variable f7 is',type(f7))"
   ]
  },
  {
   "cell_type": "markdown",
   "id": "9bc0cd91-b2f1-4214-8b80-af619bc67ec5",
   "metadata": {
    "jp-MarkdownHeadingCollapsed": true,
    "tags": []
   },
   "source": [
    "## **booleans** \n",
    "booleans are variables that can take only two values, "
   ]
  },
  {
   "cell_type": "code",
   "execution_count": 10,
   "id": "57c64541-3116-4321-b25b-9831cf629c75",
   "metadata": {},
   "outputs": [
    {
     "name": "stdout",
     "output_type": "stream",
     "text": [
      "g1 = True ; the built-in data type of the variable g1 is <class 'bool'>\n",
      "g2 = False ; the built-in data type of the variable g2 is <class 'bool'>\n"
     ]
    }
   ],
   "source": [
    "g1,g2=True, False\n",
    "print('g1 =',g1, '; the built-in data type of the variable g1 is',type(g1))\n",
    "print('g2 =',g2, '; the built-in data type of the variable g2 is',type(g2))"
   ]
  },
  {
   "cell_type": "markdown",
   "id": "3aa918f7-558e-4a33-83f8-dff9874391dd",
   "metadata": {},
   "source": [
    "- can be denied by adding **not** before the boolean condition"
   ]
  },
  {
   "cell_type": "code",
   "execution_count": 11,
   "id": "05634a80-8953-41ee-acdd-aa49bbdffd71",
   "metadata": {},
   "outputs": [
    {
     "name": "stdout",
     "output_type": "stream",
     "text": [
      "g3 = False ; the built-in data type of the variable g3 is <class 'bool'>\n"
     ]
    }
   ],
   "source": [
    "g3=not g1\n",
    "print('g3 =',g3, '; the built-in data type of the variable g3 is',type(g3))"
   ]
  },
  {
   "cell_type": "markdown",
   "id": "cc7aca31-5096-4cc7-a215-a6529ca0db6d",
   "metadata": {},
   "source": [
    "- can be matched with other booleans by using **&** (\"end\", which returns True only if both booleans are True) or **|** (\"or\", which returns True if just one boolean is True)"
   ]
  },
  {
   "cell_type": "code",
   "execution_count": 12,
   "id": "d20497f5-f66d-4f3e-9839-fdee1909090f",
   "metadata": {},
   "outputs": [
    {
     "name": "stdout",
     "output_type": "stream",
     "text": [
      "g4 = False ; the built-in data type of the variable g4 is <class 'bool'>\n",
      "g5 = True ; the built-in data type of the variable g5 is <class 'bool'>\n"
     ]
    }
   ],
   "source": [
    "g4=g1&g2\n",
    "g5=g1|g2\n",
    "print('g4 =',g4, '; the built-in data type of the variable g4 is',type(g4))\n",
    "print('g5 =',g5, '; the built-in data type of the variable g5 is',type(g5))"
   ]
  },
  {
   "cell_type": "markdown",
   "id": "55cea018-7a27-4106-bfad-7f1672150a67",
   "metadata": {
    "jp-MarkdownHeadingCollapsed": true,
    "tags": []
   },
   "source": [
    "## **complex numbers** \n",
    "complex numbers are specified by adding a number followed by the letter j (lowercase) to a second number"
   ]
  },
  {
   "cell_type": "code",
   "execution_count": 13,
   "id": "0cda59ce-9719-427e-8412-177202508339",
   "metadata": {},
   "outputs": [
    {
     "name": "stdout",
     "output_type": "stream",
     "text": [
      "h1 = (3+4j) ; the built-in data type of the variable h1 is <class 'complex'>\n",
      "h3 = (10+14j) ; the built-in data type of the variable h3 is <class 'complex'>\n",
      "h4 = (9+12j) ; the built-in data type of the variable h4 is <class 'complex'>\n"
     ]
    }
   ],
   "source": [
    "h1,h2=3+4j,7+10j\n",
    "h3=h1+h2\n",
    "h4=3*h1\n",
    "print('h1 =',h1, '; the built-in data type of the variable h1 is',type(h1))\n",
    "print('h3 =',h3, '; the built-in data type of the variable h3 is',type(h3))\n",
    "print('h4 =',h4, '; the built-in data type of the variable h4 is',type(h4))"
   ]
  },
  {
   "cell_type": "code",
   "execution_count": 14,
   "id": "82b572d9-eb8e-4cd8-8e64-706286780c4f",
   "metadata": {},
   "outputs": [
    {
     "name": "stdout",
     "output_type": "stream",
     "text": [
      "h4 = (3.6+7.3j) ; the built-in data type of the variable h4 is <class 'complex'>\n",
      "h5 = (3.6+7.3j) ; the built-in data type of the variable h5 is <class 'complex'>\n"
     ]
    }
   ],
   "source": [
    "# an alternative way to define a complex number (for example, starting from two \n",
    "# other numbers) consists of using the dedicated function complex(...):\n",
    "h2,h3=3.6,7.3\n",
    "h4=complex(h2,h3)\n",
    "# but you can also just multiply the imaginary part by 1j and sum it to the real one:\n",
    "h5=h2+h3*1j\n",
    "print('h4 =',h4, '; the built-in data type of the variable h4 is',type(h4))\n",
    "print('h5 =',h5, '; the built-in data type of the variable h5 is',type(h5))"
   ]
  },
  {
   "cell_type": "markdown",
   "id": "7964a59f-378b-42fd-b566-d46d8662cc65",
   "metadata": {},
   "source": [
    "**methods/attributes** can be really useful when it comes to complex numbers"
   ]
  },
  {
   "cell_type": "code",
   "execution_count": 15,
   "id": "11c88ad5-8264-4689-8c53-bac050b86f91",
   "metadata": {},
   "outputs": [
    {
     "name": "stdout",
     "output_type": "stream",
     "text": [
      "h10 = 3.6\n",
      "h11 = 7.3\n",
      "h12 = (3.6-7.3j)\n"
     ]
    }
   ],
   "source": [
    "# the real and imaginary parts of a complex number can be obtained by:\n",
    "h10=h4.real\n",
    "print('h10 =',h10)\n",
    "h11=h4.imag\n",
    "print('h11 =',h11)\n",
    "# in a similar way, the conjugate of the complex number is:\n",
    "h12=h4.conjugate()\n",
    "print('h12 =',h12)"
   ]
  },
  {
   "cell_type": "markdown",
   "id": "1c592483-3659-41c9-8e72-b45122b6a39f",
   "metadata": {},
   "source": [
    "In addition, a really useful module (a set of additional functions to the built-in ones, that are already installed with Python 3 but need to be recalled) when dealing with complex numbers is **cmath** (see https://docs.python.org/3/library/cmath.html)"
   ]
  },
  {
   "cell_type": "code",
   "execution_count": 16,
   "id": "a0f6211a-bffd-48f9-bca9-abb9bca890bf",
   "metadata": {},
   "outputs": [
    {
     "name": "stdout",
     "output_type": "stream",
     "text": [
      "h6 = 8.139410298049853\n",
      "h7 = 1.112643167997307\n",
      "h8 = (8.139410298049853, 1.112643167997307)\n",
      "h8 = (3.6+7.3j)\n"
     ]
    }
   ],
   "source": [
    "# to get the absolute value of a complex number, a built-in functions can be:\n",
    "h6=abs(h4)\n",
    "print('h6 =',h6)\n",
    "import cmath as cm\n",
    "# instead the phase can be obtained only by using the cmath fucntion phase:\n",
    "h7=cm.phase(h4)\n",
    "print('h7 =',h7)\n",
    "# both the phase and the absolute value can be obtained only by using the cmath \n",
    "# fucntion polar:\n",
    "h8=cm.polar(h4)\n",
    "print('h8 =',h8)\n",
    "# on the opposite end of the spectrum, a complex number can be defined by its\n",
    "# polar components through the use of the cmath function rect:\n",
    "h9=cm.rect(h6,h7)\n",
    "print('h8 =',h9)"
   ]
  },
  {
   "cell_type": "markdown",
   "id": "6c86a700-97af-4dcf-a372-6321831f4872",
   "metadata": {
    "jp-MarkdownHeadingCollapsed": true,
    "tags": []
   },
   "source": [
    "## **strings** \n",
    "strings are iterable, immutable, ordered sequences of characters (that can therefore be used to define for-loop iterations) that can be defined by surrounding the sequence with apostrophes or double quotes:"
   ]
  },
  {
   "cell_type": "code",
   "execution_count": 2,
   "id": "c6a3b347-6082-4abf-b8fd-415d7be51d4e",
   "metadata": {},
   "outputs": [
    {
     "name": "stdout",
     "output_type": "stream",
     "text": [
      "i1 = hello ; the built-in data type of the variable i1 is <class 'str'>\n",
      "i2 = world ; the built-in data type of the variable i2 is <class 'str'>\n",
      "i3 = Where's my chicken? ; the built-in data type of the variable i3 is <class 'str'>\n"
     ]
    }
   ],
   "source": [
    "i1='hello'\n",
    "i2=\"world\"\n",
    "# double quotes allow to define a string in which an apostrophe is used as a character\n",
    "i3=\"Where's my chicken?\"\n",
    "print('i1 =',i1, '; the built-in data type of the variable i1 is',type(i1))\n",
    "print('i2 =',i2, '; the built-in data type of the variable i2 is',type(i2))\n",
    "print('i3 =',i3, '; the built-in data type of the variable i3 is',type(i3))"
   ]
  },
  {
   "cell_type": "markdown",
   "id": "5b27af32-fd3c-4d27-a574-4744a1df7ddc",
   "metadata": {},
   "source": [
    "or by using the appropriate function (which is particularly useful when it comes to turning the value of a variable into a string):"
   ]
  },
  {
   "cell_type": "code",
   "execution_count": 3,
   "id": "f19dcd7c-635d-45de-b41e-66326c5baf50",
   "metadata": {},
   "outputs": [
    {
     "name": "stdout",
     "output_type": "stream",
     "text": [
      "i25 = 5 ; the built-in data type of the variable i25 is <class 'str'>\n"
     ]
    }
   ],
   "source": [
    "i25=str(5)\n",
    "print('i25 =',i25, '; the built-in data type of the variable i25 is',type(i25))"
   ]
  },
  {
   "cell_type": "markdown",
   "id": "549b0644-ba48-4fb7-a92d-303b2a68cc1b",
   "metadata": {},
   "source": [
    "String are immutable objects, i.e. once initialised you cannot change them by using the assignment operator `=`"
   ]
  },
  {
   "cell_type": "code",
   "execution_count": 1,
   "id": "adfc02b3-5762-47ac-841a-04c4b5112ec5",
   "metadata": {},
   "outputs": [
    {
     "ename": "TypeError",
     "evalue": "'str' object does not support item assignment",
     "output_type": "error",
     "traceback": [
      "\u001b[1;31m---------------------------------------------------------------------------\u001b[0m",
      "\u001b[1;31mTypeError\u001b[0m                                 Traceback (most recent call last)",
      "\u001b[1;32m~\\AppData\\Local\\Temp/ipykernel_9792/3197630768.py\u001b[0m in \u001b[0;36m<module>\u001b[1;34m\u001b[0m\n\u001b[0;32m      1\u001b[0m \u001b[0mq\u001b[0m \u001b[1;33m=\u001b[0m \u001b[1;34m\"ciao\"\u001b[0m\u001b[1;33m\u001b[0m\u001b[1;33m\u001b[0m\u001b[0m\n\u001b[1;32m----> 2\u001b[1;33m \u001b[0mq\u001b[0m\u001b[1;33m[\u001b[0m\u001b[1;36m0\u001b[0m\u001b[1;33m]\u001b[0m \u001b[1;33m=\u001b[0m \u001b[1;34m\"t\"\u001b[0m\u001b[1;33m\u001b[0m\u001b[1;33m\u001b[0m\u001b[0m\n\u001b[0m",
      "\u001b[1;31mTypeError\u001b[0m: 'str' object does not support item assignment"
     ]
    }
   ],
   "source": [
    "q = \"ciao\"\n",
    "q[0] = \"t\""
   ]
  },
  {
   "cell_type": "code",
   "execution_count": 5,
   "id": "f5fa9025-f686-4c2d-a733-60b2f3db96e3",
   "metadata": {},
   "outputs": [
    {
     "name": "stdout",
     "output_type": "stream",
     "text": [
      "i4 = helloworld ; the built-in data type of the variable i4 is <class 'str'>\n",
      "i5 = hello world ; the built-in data type of the variable i5 is <class 'str'>\n",
      "i6 = eee ; the built-in data type of the variable i6 is <class 'str'>\n",
      "i7 = ericaericaerica ; the built-in data type of the variable i7 is <class 'str'>\n"
     ]
    }
   ],
   "source": [
    "# sum and multiplication are defined for strings\n",
    "# sum in equal to the concatenation of said strings\n",
    "i4=i1+i2\n",
    "print('i4 =',i4, '; the built-in data type of the variable i4 is',type(i4))\n",
    "i5=i1+' '+i2\n",
    "print('i5 =',i5, '; the built-in data type of the variable i5 is',type(i5))\n",
    "# multiplication consists of the repetitions of the entire string (as a whole)\n",
    "# but is only possible with integer numbers (no floating point numbers!)\n",
    "i6='e'*3\n",
    "print('i6 =',i6, '; the built-in data type of the variable i6 is',type(i6))\n",
    "i7='erica'*3\n",
    "print('i7 =',i7, '; the built-in data type of the variable i7 is',type(i7))"
   ]
  },
  {
   "cell_type": "markdown",
   "id": "54588086-b91d-492a-b44d-bcb1bd65172a",
   "metadata": {},
   "source": [
    "strings can be seen as sequences of characters, so they're **subscriptable** (*indicizzabile*): its characters can therefore be recalled by adding (to the right of the string name) an appropriate index in square brackets"
   ]
  },
  {
   "cell_type": "code",
   "execution_count": 6,
   "id": "ca801e64-1206-4276-a6da-5192d2e83d21",
   "metadata": {},
   "outputs": [
    {
     "name": "stdout",
     "output_type": "stream",
     "text": [
      "i8 = o ; the built-in data type of the variable i8 is <class 'str'>\n",
      "i9 = hel ; the built-in data type of the variable i9 is <class 'str'>\n",
      "i10 = acireacireacire ; the built-in data type of the variable i10 is <class 'str'>\n",
      "i13 = eiarceia ; the built-in data type of the variable i13 is <class 'str'>\n",
      "i11 = hell ; the built-in data type of the variable i11 is <class 'str'>\n",
      "i12 = hello ; the built-in data type of the variable i12 is <class 'str'>\n"
     ]
    }
   ],
   "source": [
    "i8=i1[-1]\n",
    "print('i8 =',i8, '; the built-in data type of the variable i8 is',type(i8))\n",
    "i9=i1[0:3]\n",
    "print('i9 =',i9, '; the built-in data type of the variable i9 is',type(i9))\n",
    "i10=i7[::-1] # to flip the characters in a string\n",
    "print('i10 =',i10, '; the built-in data type of the variable i10 is',type(i10))\n",
    "i13=i7[0::2] # to select characters with a certain pattern\n",
    "print('i13 =',i13, '; the built-in data type of the variable i13 is',type(i13))\n",
    "i11=i1[:-1]\n",
    "print('i11 =',i11, '; the built-in data type of the variable i11 is',type(i11))\n",
    "i12=i1[:]\n",
    "print('i12 =',i12, '; the built-in data type of the variable i12 is',type(i12))"
   ]
  },
  {
   "cell_type": "markdown",
   "id": "f9888201-1377-4bf0-8d7a-f1a5bbd6bb23",
   "metadata": {},
   "source": [
    "**methods/attributes** are useful when it comes to strings: Python has a large number of methods (https://docs.python.org/3/library/stdtypes.html#string-methods) explicitly designed to manipulate strings. Methods are invoked by\n",
    "\n",
    "            string.method(args)\n",
    "and return a new string with changes applied."
   ]
  },
  {
   "cell_type": "code",
   "execution_count": 7,
   "id": "577a7bb9-0ca4-41fe-80e6-40dbdcd4a8a4",
   "metadata": {},
   "outputs": [
    {
     "name": "stdout",
     "output_type": "stream",
     "text": [
      "i14 = Hello ; the built-in data type of the variable i14 is <class 'str'>\n",
      "i15 = hello ; the built-in data type of the variable i15 is <class 'str'>\n",
      "i16 = he!!o ; the built-in data type of the variable i16 is <class 'str'>\n",
      "i17 = he ; the built-in data type of the variable i17 is <class 'str'>\n",
      "i19 = llo ; the built-in data type of the variable i19 is <class 'str'>\n",
      "i18 = ['he', '', 'o'] ; the built-in data type of the variable i18 is <class 'list'>\n",
      "i21 = 5 ; the built-in data type of the variable i21 is <class 'int'>\n",
      "i22 =      hello       ; the built-in data type of the variable i22 is <class 'str'>\n",
      "i24 = it's-a-me-mario ; the built-in data type of the variable i24 is <class 'str'>\n"
     ]
    }
   ],
   "source": [
    "# to capitalize the first character of a string and lowercase the remaining ones:\n",
    "i14=i1.capitalize()\n",
    "print('i14 =',i14, '; the built-in data type of the variable i14 is',type(i14))\n",
    "# to lowercase all the characters that are part of a string:\n",
    "i15=i14.lower()\n",
    "print('i15 =',i15, '; the built-in data type of the variable i15 is',type(i15))\n",
    "# to replace a character (even for a limited amount of occurrences) with a new one:\n",
    "i16=i1.replace('l','!')\n",
    "print('i16 =',i16, '; the built-in data type of the variable i16 is',type(i16))\n",
    "# to remove trailing characters (i.e. at the end of the string) from a string:\n",
    "i17=i1.rstrip('lo') # when the input is omitted or NOne, it default removes whitespace\n",
    "print('i17 =',i17, '; the built-in data type of the variable i17 is',type(i17))\n",
    "# to remove leading characters (i.e. at the beginning of the string) from a string:\n",
    "i19=i1.lstrip('he') # when the input is omitted or NOne, it default removes whitespace\n",
    "print('i19 =',i19, '; the built-in data type of the variable i19 is',type(i19))\n",
    "# to split a string into portions of its characters:\n",
    "i18=i16.split(sep='!',maxsplit=-1)  # by default the separator is a whitespace\n",
    "                                    # (sep=' ') and maxsplit=-1 (no occurrences)\n",
    "print('i18 =',i18, '; the built-in data type of the variable i18 is',type(i18))\n",
    "# to count how many times a character occurs in a string:\n",
    "i20='apelle figlio di apollo fece una palla di pelle di pollo'\n",
    "i21=i20.count('a') # uppercase/lowercase characters are different (case-sensitive)\n",
    "print('i21 =',i21, '; the built-in data type of the variable i21 is',type(i21))\n",
    "# to center a string in a new strings with an input number of characters:\n",
    "i22=i1.center(16)\n",
    "print('i22 =',i22,'; the built-in data type of the variable i22 is',type(i22))\n",
    "# to use a given string to join other strings:\n",
    "i23='-'\n",
    "i24=i23.join([\"it's\",'a','me','mario'])\n",
    "print('i24 =',i24,'; the built-in data type of the variable i24 is',type(i24))"
   ]
  },
  {
   "cell_type": "markdown",
   "id": "63bbe4e2-5a10-412f-97eb-e22c355cc9b1",
   "metadata": {
    "jp-MarkdownHeadingCollapsed": true,
    "tags": []
   },
   "source": [
    "### **Raw strings**"
   ]
  },
  {
   "cell_type": "markdown",
   "id": "c48a69e5-f0a6-42b3-b08c-0fd8a3245456",
   "metadata": {},
   "source": [
    "Raw strings are particular strings that do not follow the usual escape rules (e.g. `\\n` starts a new line). A raw string is created by adding an `r` in front of the string so `r'\\n'` does not have any special meaning.\n",
    "\n",
    "REMIND: plot labels written in LaTex code have a lot of `\\` that are not escape characters! Raw strings will be very useful!"
   ]
  },
  {
   "cell_type": "code",
   "execution_count": 8,
   "id": "ff5b0f9d-e003-447b-9c76-d062286503a9",
   "metadata": {},
   "outputs": [
    {
     "name": "stdout",
     "output_type": "stream",
     "text": [
      " ciao \n",
      " ciao\n",
      "\n",
      " DIFFERS FROM \n",
      "\n",
      " ciao \\n ciao\n"
     ]
    }
   ],
   "source": [
    "print(\" ciao \\n ciao\")\n",
    "print(\"\\n DIFFERS FROM \\n\")\n",
    "print(r\" ciao \\n ciao\")"
   ]
  },
  {
   "cell_type": "markdown",
   "id": "94f73ed2-c551-425a-a5cf-60174ae200e6",
   "metadata": {
    "jp-MarkdownHeadingCollapsed": true,
    "tags": []
   },
   "source": [
    "### **String formatting**"
   ]
  },
  {
   "cell_type": "markdown",
   "id": "9dc89ab4-151f-464a-8fb6-8801462ce702",
   "metadata": {},
   "source": [
    "If you need to insert numbers in your strings and format them in specific ways, Python has (at least) two main formatting methods (see here for full details https://pyformat.info ):\n",
    "\n",
    "- the old-style `%` character (C-like, i.e. `%d` for int, `%s` for string, `%f` or `%g` for floating point, `%e` for the exponential form)\n",
    "- new-style with `.format()` keyword"
   ]
  },
  {
   "cell_type": "code",
   "execution_count": 14,
   "id": "0e0b0bc9-e0c1-4c99-b2ec-65a9661485fd",
   "metadata": {
    "tags": []
   },
   "outputs": [
    {
     "name": "stdout",
     "output_type": "stream",
     "text": [
      "1 2\n",
      "3 4\n"
     ]
    }
   ],
   "source": [
    "string1 = '%d %d' % (1, 2)\n",
    "string2 = '{} {}'.format(3, 4)\n",
    "\n",
    "print(string1)\n",
    "print(string2)"
   ]
  },
  {
   "cell_type": "markdown",
   "id": "e110d02e-1c19-459d-bf28-fd02c57b68ac",
   "metadata": {},
   "source": [
    "The second method is much more powerful and should be preferred. Inside `{ }` specific formatting instructions can be specified. "
   ]
  },
  {
   "cell_type": "code",
   "execution_count": 15,
   "id": "480fc59e-5e98-4dff-8d3b-654ebc4d54b2",
   "metadata": {},
   "outputs": [
    {
     "name": "stdout",
     "output_type": "stream",
     "text": [
      "341              4.59e+02\n"
     ]
    }
   ],
   "source": [
    "string3 = '{0:<4d} {second_number:>20.2e}'.format(341, second_number=4.5871e2)\n",
    "\n",
    "print(string3)"
   ]
  },
  {
   "cell_type": "markdown",
   "id": "7fa33597-ff09-47f5-917c-c4ea91c1657a",
   "metadata": {},
   "source": [
    "In this specific example:\n",
    "- the first item in parentheses before the colon `:` is either a number (which indicates which of the arguments of the format method is to be used as input here - 0 is the first one) or a keyword (as in the second example above);\n",
    "- `<` or `>` sets left or right alignment respectively;\n",
    "- the first number after the alignment specification sets the total number of figures that will be used, while the number after the dot `.` sets the decimal places or the precision;\n",
    "- the letter (same meaning as the old-style format) specifies the number or data type. \n",
    "\n",
    "Below are a graphical explanation and a summary table: "
   ]
  },
  {
   "attachments": {
    "image.png": {
     "image/png": "[encoded data removed]"
    }
   },
   "cell_type": "markdown",
   "id": "0b6fe437-7120-4615-864b-526e634cab3c",
   "metadata": {},
   "source": [
    "![image.png](attachment:image.png)"
   ]
  },
  {
   "cell_type": "markdown",
   "id": "a7fd55eb-268c-4789-b63b-81aad6152591",
   "metadata": {},
   "source": [
    "Option | Meaning\n",
    "-------|--------\n",
    "'<' |\tThe field will be left-aligned within the available space. This is usually the default for strings.\n",
    "'>' |\tThe field will be right-aligned within the available space. This is the default for numbers.\n",
    "'0' |\tIf the width field is preceded by a zero ('0') character, sign-aware zero-padding for numeric types will be enabled.\n",
    "',' |\tThis option signals the use of a comma for a thousands separator.\n",
    "'=' |\tForces the padding to be placed after the sign (if any) but before the digits. This is used for printing fields in the form \"+000000120\". This alignment option is only valid for numeric types.\n",
    "'^' |\tForces the field to be centered within the available space.\n",
    "'+' |\tindicates that a sign should be used for both positive as well as negative numbers.\n",
    "'-' |\tindicates that a sign should be used only for negative numbers, which is the default behavior.\n",
    "space |\tindicates that a leading space should be used on positive numbers, and a minus sign on negative numbers."
   ]
  },
  {
   "cell_type": "markdown",
   "id": "a93999e0-a4ce-42ef-af9a-7d71bbc02807",
   "metadata": {
    "jp-MarkdownHeadingCollapsed": true,
    "tags": []
   },
   "source": [
    "## **Operators**"
   ]
  },
  {
   "cell_type": "markdown",
   "id": "022fe4ca-e7bb-4c0e-a60b-5fa5ba5ac501",
   "metadata": {},
   "source": [
    "Operators are used to perform operations on variables and values. They can be grouped in the following groups:\n",
    "\n",
    "   - Arithmetic operators\n",
    "   \n",
    "|Symbol | Operation | Usage|\n",
    "|:------|:-----|:------|\n",
    "|+ |\tAddition |\t     x + y|\t\n",
    "|- |\tSubtraction |\t x - y|\n",
    "|* |\tMultiplication | x * y|\n",
    "|/ |\tDivision |\t     x / y|\n",
    "|% |\tModulus |\t     x % y|\n",
    "|\\**| \tExponentiation | x ** y| \n",
    "|// |\tFloor division | x // y|\n",
    "  \n",
    "   - Assignment operators\n",
    "   \n",
    "Symbol | Usage | Same as\n",
    ":------|:-----|:--------\n",
    "= \t| x = 5 \t| x = 5 \t\n",
    "+= \t| x += 3 \t| x = x + 3 \t\n",
    "-= \t| x -= 3 \t| x = x - 3 \t\n",
    "*= \t| x *= 3 \t| x = x * 3 \t\n",
    "/= \t| x /= 3 \t| x = x / 3 \t\n",
    "%= \t| x %= 3 \t| x = x % 3 \t\n",
    "//= | x //= 3 \t| x = x // 3 \t\n",
    "\\**= | x \\**= 3 \t| x = x ** 3 \t\n",
    "&= \t| x &= 3 \t| x = x & 3 \t\n",
    "\\|= \t| x &#124;= 3 \t| x = x &#124; 3 \t\n",
    "^= \t| x ^= 3 \t| x = x ^ 3 \n",
    "\\>>= | x >>= 3 \t| x = x >> 3 \t\n",
    "<<= | x <<= 3 \t| x = x << 3   \n",
    "\n",
    "   - Comparison operators\n",
    "\n",
    "Symbol | Name | Usage\n",
    ":------|:-----|:--------\n",
    "== | Equal                     | x == y\n",
    "!= | Not equal                 | x != y\n",
    "\\>  | Greater than              | x > y\n",
    "<  | Less than                 | x < y\n",
    "\\>= | Greater than or equal to  | x >= y\n",
    "<= | Less than or equal to     | x <= y\n",
    "   \n",
    "   - Logical operators\n",
    "\n",
    "Symbol | Operation | Usage\n",
    ":------|:-----|:--------\n",
    "and  \t| Returns True if both statements are true \t\t\t\t\t| x < 5 and  x < 10 \t\n",
    "or \t\t| Returns True if one of the statements is true \t\t\t| x < 5 or x < 4 \t\n",
    "not \t| Reverse the result, returns False if the result is true \t| not(x < 5 and x < 10)\n",
    "\n",
    "   - Identity operators\n",
    "\n",
    "Symbol | Operation | Usage\n",
    ":------|:-----|:--------\n",
    "is  \t| Returns true if both variables are the same object \t\t| x is y \t\n",
    "is not \t| Returns true if both variables are not the same object \t| x is not y\n",
    "\n",
    "   - Membership operators\n",
    "   \n",
    "Symbol | Operation | Usage\n",
    ":------|:-----|:--------\n",
    "in  \t| Returns True if a sequence with the specified value is present in the object \t\t| x in y \t\n",
    "not in \t| Returns True if a sequence with the specified value is not present in the object \t| x not in y \n",
    "  \n",
    "   - Bitwise operators\n",
    "\n",
    "Symbol | Name | Operation\n",
    ":------|:-----|:--------\n",
    "&  \t| AND \t\t\t\t\t| Sets each bit to 1 if both bits are 1\n",
    "\\| \t| OR \t\t\t\t\t| Sets each bit to 1 if one of two bits is 1\n",
    " ^ \t| XOR \t\t\t\t\t| Sets each bit to 1 if only one of two bits is 1\n",
    "~  \t| NOT \t\t\t\t\t| Inverts all the bits\n",
    "<< \t| Zero fill left shift \t| Shift left by pushing zeros in from the right and let the leftmost bits fall off\n",
    "\\>> \t| Signed right shift \t| Shift right by pushing copies of the leftmost bit in from the left, and let the rightmost bits fall off\n"
   ]
  },
  {
   "cell_type": "markdown",
   "id": "d1da3c39-553a-4288-a143-e097d68ba46b",
   "metadata": {
    "jp-MarkdownHeadingCollapsed": true,
    "tags": []
   },
   "source": [
    "## **Conditional statements** "
   ]
  },
  {
   "cell_type": "markdown",
   "id": "f5b42b4e-b532-4999-88c2-1bdd95ecb426",
   "metadata": {},
   "source": [
    "if-elif-else statements\n",
    "- are conditional statements needed when it comes executing a piece of code only if a certain condition is satisfied.\n",
    "- can be used to control the flow of your programs, in particular through series of **if statement**.\n",
    "A simple if-statatement condition\n",
    "- must be logical (i.e. must return a boolean);\n",
    "- is preceded by **if**;\n",
    "- **must be followed by :** (double dots): if the latter condition is satisfied, then the conditional piece of code is automatically indented. Code lines with equal indentations are intended to be part of the same conditional piece of code;"
   ]
  },
  {
   "cell_type": "code",
   "execution_count": 20,
   "id": "c95d7118-70e1-4ac4-96af-248e37f030bc",
   "metadata": {},
   "outputs": [
    {
     "name": "stdout",
     "output_type": "stream",
     "text": [
      "x > 1\n"
     ]
    }
   ],
   "source": [
    "x = 2\n",
    "if x > 1: # the colon (and the following indentation) defines which instructions will be excuted \n",
    "          # when the conditional expression evaluates True\n",
    "    print(\"x > 1\")"
   ]
  },
  {
   "cell_type": "markdown",
   "id": "cf696279-9218-4f7c-a7d2-54a3421f9e49",
   "metadata": {},
   "source": [
    "The complementary condition to the first one can be included by adding an **else** (logical) condition after the first if condition (with the same indentation as the first if condition)"
   ]
  },
  {
   "cell_type": "code",
   "execution_count": 84,
   "id": "31af14d9-aab6-4f62-83cc-b218b18fd3e1",
   "metadata": {},
   "outputs": [
    {
     "name": "stdout",
     "output_type": "stream",
     "text": [
      "no\n",
      "your number is smaller than 50\n"
     ]
    }
   ],
   "source": [
    "a2=10\n",
    "if a2>50:\n",
    "    print('yes')\n",
    "    print('your number is greater than 50')\n",
    "else:\n",
    "    print('no')\n",
    "    print('your number is smaller than 50')"
   ]
  },
  {
   "cell_type": "markdown",
   "id": "8b9ededd-189a-43ee-8fe3-32cc5ed4046e",
   "metadata": {},
   "source": [
    "An alternative but non-complementary condition to the initial if one can be included thought the use of **elif condition**"
   ]
  },
  {
   "cell_type": "code",
   "execution_count": 9,
   "id": "df650d78-b2e9-4549-9c0a-bef5f07f04cf",
   "metadata": {},
   "outputs": [
    {
     "name": "stdout",
     "output_type": "stream",
     "text": [
      "your number is smaller than 50\n"
     ]
    }
   ],
   "source": [
    "a3=45\n",
    "if a3<25:\n",
    "    print('your number is smaller than 25')\n",
    "elif a3<50:\n",
    "    print('your number is smaller than 50')\n",
    "else:\n",
    "    print('your number is greater than 50')"
   ]
  },
  {
   "cell_type": "markdown",
   "id": "eccd3a48-7c58-4eaf-9d1a-d3308b3ad942",
   "metadata": {
    "tags": []
   },
   "source": [
    "## **Loops**"
   ]
  },
  {
   "cell_type": "markdown",
   "id": "9a0251fa-26e1-4752-98e4-d6d8ac49c8e1",
   "metadata": {},
   "source": [
    "Python has two kind of **loops**, `for` and `while`. The former does not need an iterator index to set beforehand. Instead, the latter requires the relevant variables to be ready before the beginning of the loop."
   ]
  },
  {
   "cell_type": "markdown",
   "id": "c61d02eb-4d00-4fe6-9633-315a2a20ef3e",
   "metadata": {
    "jp-MarkdownHeadingCollapsed": true,
    "tags": []
   },
   "source": [
    "### **For-loops**\n",
    "for-loops are used to iterate a piece of code on a sequence of objects: it utilizes a temporary variable "
   ]
  },
  {
   "cell_type": "code",
   "execution_count": 87,
   "id": "018876a0-51a1-43c1-8320-6b1592436286",
   "metadata": {},
   "outputs": [
    {
     "name": "stdout",
     "output_type": "stream",
     "text": [
      "c1 = 1 ; the built-in data type of the variable c1 is <class 'int'>\n",
      "c1 = 3.2 ; the built-in data type of the variable c1 is <class 'float'>\n",
      "c1 = blue ; the built-in data type of the variable c1 is <class 'str'>\n",
      "c1 = (2, 3) ; the built-in data type of the variable c1 is <class 'tuple'>\n",
      "c1 = (3+2j) ; the built-in data type of the variable c1 is <class 'complex'>\n"
     ]
    }
   ],
   "source": [
    "for c1 in [1,3.2,'blue', (2,3), 3+2j]:\n",
    "    print('c1 =',c1, '; the built-in data type of the variable c1 is',type(c1))"
   ]
  },
  {
   "cell_type": "markdown",
   "id": "6ae5685a-706b-4cd4-80b5-38b72a721c3a",
   "metadata": {},
   "source": [
    "it works not only with lists but also with strings, since both of them are iterable sequences:"
   ]
  },
  {
   "cell_type": "code",
   "execution_count": 88,
   "id": "e21246d9-f5c8-4301-a71d-2e1df88e0d7e",
   "metadata": {},
   "outputs": [
    {
     "name": "stdout",
     "output_type": "stream",
     "text": [
      "let's spell the word:  hello\n",
      "h\n",
      "e\n",
      "l\n",
      "l\n",
      "o\n"
     ]
    }
   ],
   "source": [
    "word='hello'\n",
    "print(\"let's spell the word: \",word)\n",
    "for c2 in 'hello':\n",
    "    print(c2)"
   ]
  },
  {
   "cell_type": "markdown",
   "id": "57a4f91a-2471-4a2c-ace2-9f17e5a7a8f5",
   "metadata": {},
   "source": [
    "Depending on the the variable needed in the loop (ex. the loop index), the following built in functions can be useful:\n",
    "- **range(...)** is a particular built in data-type that comes very useful in for-loops since it's an iterable object (that contains the numbers from 0 to the one in input excluted)"
   ]
  },
  {
   "cell_type": "markdown",
   "id": "38c59f0d-af1f-4176-91ce-2c8004883124",
   "metadata": {},
   "source": [
    "- **enumerate(...)** is a particular built in data anype than return both the index of a sequence and the value at said index"
   ]
  },
  {
   "cell_type": "code",
   "execution_count": 3,
   "id": "6afb10d4-d553-47c8-bb16-11ee05a1c1fa",
   "metadata": {},
   "outputs": [
    {
     "name": "stdout",
     "output_type": "stream",
     "text": [
      "banana\n",
      "5\n",
      "78.25\n",
      "\n",
      "\n",
      "0 banana\n",
      "1 5\n",
      "2 78.25\n",
      "\n",
      "\n",
      "0 banana\n",
      "1 5\n",
      "2 78.25\n"
     ]
    }
   ],
   "source": [
    "x = [\"banana\",5,78.25]\n",
    "for a in x:\n",
    "    print(a)\n",
    "\n",
    "print(\"\\n\") \n",
    "for i in range(len(x)):\n",
    "    print(i,x[i])\n",
    "\n",
    "print(\"\\n\") \n",
    "for i,a in enumerate(x):\n",
    "    print(i,a)"
   ]
  },
  {
   "cell_type": "markdown",
   "id": "b6a10794-51e8-4f3b-92d4-9512ea7e49af",
   "metadata": {},
   "source": [
    "to exploit the properties of lists with the quickness provided by range, simply use:"
   ]
  },
  {
   "cell_type": "markdown",
   "id": "17d5eb48-d1db-4f01-b518-7827dfcb8621",
   "metadata": {
    "jp-MarkdownHeadingCollapsed": true,
    "tags": []
   },
   "source": [
    "### **While-loops**\n",
    "\n",
    "while-loops execute a conditional part of code as long as its condition is true (indefinitely if the condition holds true): therefore it is essential for the condition to depend (and change) while the conditional code executes, in order for the a while loop to end (on his own)"
   ]
  },
  {
   "cell_type": "code",
   "execution_count": 23,
   "id": "42561e67-cca9-44f6-878a-9539ab8d3000",
   "metadata": {},
   "outputs": [
    {
     "name": "stdout",
     "output_type": "stream",
     "text": [
      "1\n",
      "2\n",
      "3\n"
     ]
    }
   ],
   "source": [
    "i = 1\n",
    "while i <= 3:\n",
    "  print(i)\n",
    "  i += 1"
   ]
  },
  {
   "cell_type": "markdown",
   "id": "bc842eec-4851-44fb-a885-730094601e15",
   "metadata": {
    "jp-MarkdownHeadingCollapsed": true,
    "tags": []
   },
   "source": [
    "### **Joint use and additional instructions**"
   ]
  },
  {
   "cell_type": "markdown",
   "id": "173dbecc-900e-42e8-aef9-32cb5bcf15a0",
   "metadata": {},
   "source": [
    "Logical conditions are frequently used in **loops**.\n",
    "\n",
    "Through if statement, if some condition verifies during the loop we can just perform some operation or maybe jump to the next iteration of the loop or even exit from it:\n",
    "- **continue**"
   ]
  },
  {
   "cell_type": "code",
   "execution_count": 12,
   "id": "e7744d14-03db-4b27-af51-1151188b11b0",
   "metadata": {},
   "outputs": [
    {
     "name": "stdout",
     "output_type": "stream",
     "text": [
      "0 top\n",
      "0 bottom\n",
      "\n",
      "1 top\n",
      "1 bottom\n",
      "\n",
      "2 top\n",
      "2 bottom\n",
      "\n",
      "3 top\n",
      "4 top\n"
     ]
    }
   ],
   "source": [
    "for i in range(5):\n",
    "    print(i, \"top\")\n",
    "    if i > 2:\n",
    "        continue\n",
    "    print(i,\"bottom\\n\")"
   ]
  },
  {
   "cell_type": "markdown",
   "id": "39da926e-45d2-49bc-85fb-c7e4244bb582",
   "metadata": {},
   "source": [
    "- **break**"
   ]
  },
  {
   "cell_type": "code",
   "execution_count": 11,
   "id": "e4cfbc46-b619-4e25-8d50-a97774d7eab4",
   "metadata": {},
   "outputs": [
    {
     "name": "stdout",
     "output_type": "stream",
     "text": [
      "0 top\n",
      "0 bottom\n",
      "\n",
      "1 top\n",
      "1 bottom\n",
      "\n",
      "2 top\n",
      "2 bottom\n",
      "\n",
      "3 top\n"
     ]
    }
   ],
   "source": [
    "for i in range(5):\n",
    "    print(i, \"top\")\n",
    "    if i > 2:\n",
    "        break\n",
    "    print(i, \"bottom\\n\")"
   ]
  },
  {
   "cell_type": "markdown",
   "id": "9904bf68-a9e2-4b37-a5d8-8b97bfed9ee2",
   "metadata": {},
   "source": [
    "- **pass**"
   ]
  },
  {
   "cell_type": "code",
   "execution_count": 14,
   "id": "c55d8635-4c11-410b-b2c4-c5e950241626",
   "metadata": {},
   "outputs": [
    {
     "name": "stdout",
     "output_type": "stream",
     "text": [
      "b\n",
      "c\n",
      "d\n"
     ]
    }
   ],
   "source": [
    "li ='abcd'\n",
    " \n",
    "for i in li:\n",
    "    if(i =='a'):\n",
    "        pass\n",
    "    else:\n",
    "        print(i)"
   ]
  }
 ],
 "metadata": {
  "kernelspec": {
   "display_name": "Python 3 (ipykernel)",
   "language": "python",
   "name": "python3"
  },
  "language_info": {
   "codemirror_mode": {
    "name": "ipython",
    "version": 3
   },
   "file_extension": ".py",
   "mimetype": "text/x-python",
   "name": "python",
   "nbconvert_exporter": "python",
   "pygments_lexer": "ipython3",
   "version": "3.10.8"
  }
 },
 "nbformat": 4,
 "nbformat_minor": 5
}
