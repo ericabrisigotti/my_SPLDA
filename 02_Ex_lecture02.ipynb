{
 "cells": [
  {
   "cell_type": "markdown",
   "id": "dd169e43-fb0f-4273-ac34-d3b58c1417d9",
   "metadata": {
    "tags": []
   },
   "source": [
    "### Exercise 1\n",
    "\n",
    "Concatenate all words: `[\"red\", \"green\", \"blue\"] => \"redgreenblue\"`"
   ]
  },
  {
   "cell_type": "code",
   "execution_count": 5,
   "id": "500f5fc5-a28a-46f1-acf6-535404767435",
   "metadata": {
    "tags": []
   },
   "outputs": [
    {
     "name": "stdout",
     "output_type": "stream",
     "text": [
      "redgreenblue\n"
     ]
    }
   ],
   "source": [
    "words = [\"red\", \"green\", \"blue\"]\n",
    "result = \"\".join(words)\n",
    "print(result)"
   ]
  },
  {
   "cell_type": "markdown",
   "id": "15938d7d-d1c4-418d-9be9-786841cfc7bf",
   "metadata": {},
   "source": [
    "[missing examples]"
   ]
  },
  {
   "cell_type": "markdown",
   "id": "541b4126-49a3-484e-bfca-844aa3d4f4d0",
   "metadata": {
    "tags": []
   },
   "source": [
    "### Exercise 2\n",
    "Create an array containing the first 10 even numbers. Then:\n",
    "- print all those whose square is greater than 10, using slicing;\n",
    "- add 1 to all the elements that are smaller than 5, and print the result in reverse order;\n",
    "- create a new array which contains only the odd entries (python numbering starts from 0!) of the above array, and print it;"
   ]
  },
  {
   "cell_type": "code",
   "execution_count": 11,
   "id": "82489ed3-f7f9-4068-b7d6-5067dac815d5",
   "metadata": {},
   "outputs": [
    {
     "name": "stdout",
     "output_type": "stream",
     "text": [
      "[2, 4, 6, 8, 10, 12, 14, 16, 18, 20] [4, 6, 8, 10, 12, 14, 16, 18, 20] [1, 3, 5, 7, 9, 11, 13, 15, 17, 19]\n"
     ]
    }
   ],
   "source": [
    "even=[2*i for i in range(1,10+1) ]\n",
    "part_even=[2*i for i in range(1,10+1) if (4*i**2)>10]\n",
    "odd=n=[2*i-1 for i in range(1,10+1) ]\n",
    "print(even, part_even, odd)"
   ]
  },
  {
   "cell_type": "markdown",
   "id": "a443ecc2-fee4-44ad-81ba-8fa8fa157d3c",
   "metadata": {},
   "source": [
    "### Exercise 3\n",
    "\n",
    "Given the following string"
   ]
  },
  {
   "cell_type": "code",
   "execution_count": 51,
   "id": "36ec5973-4a47-4126-84a9-172358b41fc4",
   "metadata": {},
   "outputs": [],
   "source": [
    "species_name = \"Acacia buxifolia\""
   ]
  },
  {
   "cell_type": "markdown",
   "id": "8c8e7125-066b-4048-bca3-ba7a17a43237",
   "metadata": {},
   "source": [
    "What would these expressions return?\n",
    "\n",
    "   1. `species_name[2:8]`\n",
    "   2. `species_name[11:]` (without a value after the colon)\n",
    "   3. `species_name[:4]` (without a value before the colon)\n",
    "   4. `species_name[:]` (just a colon)\n",
    "   5. `species_name[11:-3]`\n",
    "   6. `species_name[-5:-3]`\n",
    "   7. What happens when you choose a stop value which is out of range? (i.e., try `species_name[0:20]` or `species_name[:103]`)\n"
   ]
  },
  {
   "cell_type": "code",
   "execution_count": 54,
   "id": "4889ac4b-9d25-498f-adfd-5694533d767d",
   "metadata": {},
   "outputs": [
    {
     "name": "stdout",
     "output_type": "stream",
     "text": [
      "acia b\n",
      "folia\n",
      "Acac\n",
      "Acacia buxifolia\n",
      "fo\n",
      "fo\n",
      "Acacia buxifolia\n"
     ]
    }
   ],
   "source": [
    "# 1\n",
    "print(species_name[2:8])\n",
    "# 2\n",
    "print(species_name[11:])\n",
    "# 3\n",
    "print(species_name[:4])\n",
    "# 4\n",
    "print(species_name[:])\n",
    "# 5\n",
    "print(species_name[11:-3])\n",
    "# 6\n",
    "print(species_name[-5:-3])\n",
    "# 7\n",
    "print(species_name[0:20])"
   ]
  },
  {
   "cell_type": "markdown",
   "id": "53476458-6d26-4834-b271-1ead55aedadc",
   "metadata": {},
   "source": [
    "### Exercise 4\n",
    "\n",
    "Given this:"
   ]
  },
  {
   "cell_type": "code",
   "execution_count": 49,
   "id": "5fbd7f76-fb4a-461b-8d8c-6a3412765bd6",
   "metadata": {},
   "outputs": [
    {
     "name": "stdout",
     "output_type": "stream",
     "text": [
      "string to list: ['t', 'i', 'n']\n",
      "list to string: gold\n"
     ]
    }
   ],
   "source": [
    "print('string to list:', list('tin'))\n",
    "print('list to string:', ''.join(['g', 'o', 'l', 'd']))"
   ]
  },
  {
   "cell_type": "markdown",
   "id": "ba15ec7e-a4b5-4e84-85d8-16936a3b66f7",
   "metadata": {},
   "source": [
    "with this output\n",
    "\n",
    "string to list: ['t', 'i', 'n']   \n",
    "list to string: 'gold'\n",
    "\n",
    "\n",
    "1. What does `list('some string')` do?\n",
    "2. What does `'-'.join(['x', 'y', 'z'])` generate?\n"
   ]
  },
  {
   "cell_type": "code",
   "execution_count": 57,
   "id": "1001ae21-d46f-471f-b794-31683ddf959e",
   "metadata": {},
   "outputs": [
    {
     "name": "stdout",
     "output_type": "stream",
     "text": [
      "['s', 'o', 'm', 'e', ' ', 's', 't', 'r', 'i', 'n', 'g']\n",
      "x-y-z\n"
     ]
    }
   ],
   "source": [
    "print(list('some string'))\n",
    "print('-'.join(['x', 'y', 'z']) )"
   ]
  },
  {
   "cell_type": "markdown",
   "id": "45d4e7b3-10f7-44e3-9550-39e34244ca19",
   "metadata": {},
   "source": [
    "### Exercise 5\n",
    "\n",
    "What do these two programs print? In simple terms, explain the difference between `sorted(letters)` and `letters.sort()`."
   ]
  },
  {
   "cell_type": "code",
   "execution_count": null,
   "id": "f1feb208-3fc8-486e-8870-67811218a942",
   "metadata": {},
   "outputs": [],
   "source": [
    "# Code A\n",
    "letters = list('gold')\n",
    "result = sorted(letters)\n",
    "print('letters is', letters, 'and result is', result)\n",
    "\n",
    "# Code B\n",
    "letters = list('gold')\n",
    "result = letters.sort()\n",
    "print('letters is', letters, 'and result is', result)"
   ]
  },
  {
   "cell_type": "markdown",
   "id": "d080032e-7d8b-4a5a-a7fb-d40e15181987",
   "metadata": {},
   "source": [
    "### Exercise 6\n",
    "\n",
    "What do these two programs print? In simple terms, explain the difference between `new = old` and `new = old[:]`."
   ]
  },
  {
   "cell_type": "code",
   "execution_count": 7,
   "id": "44764ae2-3a56-4d60-9dbf-6d6b956c92be",
   "metadata": {},
   "outputs": [
    {
     "name": "stdout",
     "output_type": "stream",
     "text": [
      "new is ['D', 'o', 'l', 'd'] and old is ['D', 'o', 'l', 'd']\n",
      "new is ['D', 'o', 'l', 'd'] and old is ['g', 'o', 'l', 'd']\n"
     ]
    }
   ],
   "source": [
    "# Code A: since lists are mutable, python uses shallow copy on them, \n",
    "# so new=old in the end\n",
    "old = list('gold')\n",
    "new = old      # simple assignment\n",
    "new[0] = 'D'\n",
    "print('new is', new, 'and old is', old)\n",
    "\n",
    "# Code B: since [:] is a deep copy, the final results can be different\n",
    "old = list('gold')\n",
    "new = old[:]   # assigning a slice\n",
    "new[0] = 'D'\n",
    "print('new is', new, 'and old is', old)"
   ]
  },
  {
   "cell_type": "markdown",
   "id": "42be2342-2382-4a75-b937-9c90c93c59d5",
   "metadata": {},
   "source": [
    "a. use list comprehension to create a list adding 6 to each element \\\n",
    "b. use list comprehension to create a list containing only odd numbers \\\n",
    "c. given the dictionary mydict (with vehicle names and their weights), use list comprehension to have a list with the names of vehigles weighting more than 500 (Kg)"
   ]
  },
  {
   "cell_type": "code",
   "execution_count": 32,
   "id": "4856b10a-7c9b-463e-a5a9-c54631f3f1bd",
   "metadata": {},
   "outputs": [
    {
     "name": "stdout",
     "output_type": "stream",
     "text": [
      "[7, 11, 32, 20]\n",
      "[1, 5]\n",
      "['Sedan', 'SUV', 'Pickup', 'Minivan', 'Van', 'Semi']\n"
     ]
    }
   ],
   "source": [
    "mylist=[1,5,26,14]\n",
    "\n",
    "a=5 # I'm looking for the first 5 multiples of 6\n",
    "list_a=[(idx+6) for idx in mylist]\n",
    "print(list_a)\n",
    "\n",
    "b=7 # I'm looking for the first 7 odd numbers\n",
    "list_b=[idx for idx in mylist if idx%2==1]\n",
    "print(list_b)\n",
    "\n",
    "mydict={\"Sedan\":1500, \"SUV\": 2000, \"Pickup\": 2500, \"Minivan\": 1600, \\\n",
    "        \"Van\": 2400, \"Semi\": 13600, \"Bicycle\": 7, \"Motorcycle\": 110}\n",
    "names=[idx for idx in mydict if mydict[idx]>500]\n",
    "print(names)\n",
    "#list_c=[mydict.keys(i)]"
   ]
  },
  {
   "cell_type": "markdown",
   "id": "b58b81ec-9a3b-420e-ab47-e008e8438b15",
   "metadata": {},
   "source": [
    "### Exercise 7\n",
    "\n",
    "Add a 'total' element to this animal dictionary"
   ]
  },
  {
   "cell_type": "code",
   "execution_count": 38,
   "id": "48a914a1-5060-4e4c-a965-97a6de4fd2c5",
   "metadata": {},
   "outputs": [
    {
     "name": "stdout",
     "output_type": "stream",
     "text": [
      "{'dog': 7, 'cat': 10, 'chicken': 3, 'total': 20}\n"
     ]
    }
   ],
   "source": [
    "d = {'dog':7, 'cat':10, 'chicken':3}\n",
    "\n",
    "d['total'] = sum([d[idx] for idx in d]) # <--- your code here\n",
    "#d.update({'total': sum([d[idx] for idx in d])})\n",
    "print(d)"
   ]
  },
  {
   "cell_type": "markdown",
   "id": "c8b2523b-e756-4725-80ab-4247f41872db",
   "metadata": {},
   "source": [
    "### Exercise 8\n",
    "\n",
    "Put the keys and the values of this dictionary in two separate lists:"
   ]
  },
  {
   "cell_type": "code",
   "execution_count": 1,
   "id": "d81be967-6295-4407-9521-56c1ff7862fe",
   "metadata": {},
   "outputs": [
    {
     "name": "stdout",
     "output_type": "stream",
     "text": [
      "['a', 'b', 'c', 'd'] [5, 6, 7, 8]\n"
     ]
    }
   ],
   "source": [
    "d = {'a':5, 'b':6, 'c':7, 'd':8}\n",
    "\n",
    "#list_of_keys =[idx for idx in d] \n",
    "list_of_keys = list(d.keys())\n",
    "#list_of_values =[d[idx] for idx in d] \n",
    "list_of_values = list(d.values())\n",
    "print(list_of_keys, list_of_values)"
   ]
  },
  {
   "cell_type": "markdown",
   "id": "c40dd6e7-38f4-437c-a75a-b2661be8d154",
   "metadata": {
    "tags": []
   },
   "source": [
    "### Exercise 9\n",
    "\n",
    "  1. Fill in the blanks so that the program below prints 90.0.\n",
    "  2. Rewrite the program so that it uses import without as.\n",
    "  3. Which form do you find easier to read?\n"
   ]
  },
  {
   "cell_type": "code",
   "execution_count": null,
   "id": "8cf63352-52c8-40cc-b0ce-2b9c9bbdacff",
   "metadata": {},
   "outputs": [],
   "source": [
    "import math as m\n",
    "angle = ____.degrees(____.pi / 2)\n",
    "print(____)"
   ]
  },
  {
   "cell_type": "markdown",
   "id": "d9953691-b92f-469a-9630-a97e16ec11ee",
   "metadata": {
    "jp-MarkdownHeadingCollapsed": true,
    "tags": []
   },
   "source": [
    "### Exercise 10\n",
    "\n",
    "Match the following print statements with the appropriate library calls.\n",
    "\n",
    "Print commands:\n",
    "\n",
    "   1. `print(\"sin(pi/2) =\", sin(pi/2))`\n",
    "   \n",
    "   2. `print(\"sin(pi/2) =\", m.sin(m.pi/2))`\n",
    "   \n",
    "   3. `print(\"sin(pi/2) =\", math.sin(math.pi/2))`\n",
    "\n",
    "Library calls:\n",
    "\n",
    "   1. `from math import sin, pi`\n",
    "   \n",
    "   2. `import math`\n",
    "   \n",
    "   3. `import math as m`\n",
    "   \n",
    "   4. `from math import *`\n",
    "   \n"
   ]
  },
  {
   "cell_type": "markdown",
   "id": "6be8df22-031b-4117-92e5-bada7f63530a",
   "metadata": {
    "tags": []
   },
   "source": [
    "### Exercise 11\n",
    "\n",
    "Define a function that prints a triangle of one single character of a given \"height\"\n",
    "\n",
    "\n",
    "Example: \n",
    "\n",
    "```\n",
    "\n",
    "o\n",
    "oo\n",
    "ooo\n",
    "oooo\n",
    "ooooo\n",
    "oooooo\n",
    "ooooooo\n",
    "oooooooo\n",
    "ooooooooo\n",
    "oooooooooo\n",
    "ooooooooooo\n",
    "oooooooooo\n",
    "ooooooooo\n",
    "oooooooo\n",
    "ooooooo\n",
    "oooooo\n",
    "ooooo\n",
    "oooo\n",
    "ooo\n",
    "oo\n",
    "o\n",
    "\n",
    "```"
   ]
  },
  {
   "cell_type": "code",
   "execution_count": 3,
   "id": "4202b790-a7b7-43d6-9d2e-1aac062aaec5",
   "metadata": {},
   "outputs": [
    {
     "name": "stdout",
     "output_type": "stream",
     "text": [
      "*\n",
      "**\n",
      "***\n",
      "****\n",
      "*****\n",
      "****\n",
      "***\n",
      "**\n",
      "*\n",
      "\n",
      "o\n",
      "oo\n",
      "ooo\n",
      "oooo\n",
      "ooooo\n",
      "oooooo\n",
      "ooooooo\n",
      "oooooo\n",
      "ooooo\n",
      "oooo\n",
      "ooo\n",
      "oo\n",
      "o\n",
      "\n"
     ]
    }
   ],
   "source": [
    "def triangle(height, c='*'):\n",
    "    \"\"\" function that prints a triangle of given height, with\n",
    "    default marker c=, by exploiting the \"multiplication\" properties\n",
    "    of strings in python \"\"\"\n",
    "    for idx in range(1,height+1):\n",
    "        print(c*idx)\n",
    "    for idx in range(1,height+1):\n",
    "        print(c*(height-idx))\n",
    "\n",
    "triangle(5)\n",
    "triangle(7,c='o')"
   ]
  },
  {
   "cell_type": "markdown",
   "id": "eb2c9985-64dd-4645-af28-ad9fbbf72741",
   "metadata": {
    "tags": []
   },
   "source": [
    "### Exercise 12\n",
    "\n",
    "Define a function that swap even and odd charachters in a string ('Cavalluccio marino' --> 'aCavllcuic oamiron')"
   ]
  },
  {
   "cell_type": "code",
   "execution_count": 4,
   "id": "dcccab47-95e3-4e8f-9df7-417b3a9e9c7c",
   "metadata": {},
   "outputs": [
    {
     "name": "stdout",
     "output_type": "stream",
     "text": [
      "aCavllcuic oamiron\n"
     ]
    }
   ],
   "source": [
    "s='Cavalluccio marino'\n",
    "def swap_chars_in_pairs(s):\n",
    "    new=''\n",
    "    for idx in range(len(s)):\n",
    "        if idx%2==1:\n",
    "            new=new+s[idx-1]\n",
    "        else: \n",
    "            new=new+s[idx+1]\n",
    "    return new\n",
    "print(swap_chars_in_pairs(s))"
   ]
  },
  {
   "cell_type": "markdown",
   "id": "d9cd9f80-b42b-40d5-9417-c156bea85613",
   "metadata": {
    "tags": []
   },
   "source": [
    "### Exercise 13\n",
    "\n",
    "Define a function that computes the n-th root of an integer number. Implement checks to handle even roots of negative numbers and assert that the root index is an integer. Give it a docstring! Then use it to compute the square roots of the first 5 odd numbers."
   ]
  },
  {
   "cell_type": "code",
   "execution_count": 60,
   "id": "c682c96a-2e9a-4fb7-a6fb-386e1ead9c81",
   "metadata": {},
   "outputs": [
    {
     "name": "stdout",
     "output_type": "stream",
     "text": [
      "[1.912931182772389, 2.0, -3.0, -1.7099759466766968]\n"
     ]
    }
   ],
   "source": [
    "# to understand if a number is an integer (in the mathematical sense, \n",
    "# not just the variable type but the value)\n",
    "def is_integer(number):\n",
    "    # I compare it to its floor and ceil approximation, which are\n",
    "    # equal to number if it's an integer\n",
    "    if isinstance(number,(int,float)) and number==(number//1) and number==(-(number//(-1))):\n",
    "        return True\n",
    "    else: \n",
    "        return False\n",
    "# let's focus now on the root part of the code:\n",
    "def find_root(number,n):\n",
    "    # I exploit the built in power operation ** to find the n-th root:\n",
    "    # it doesn't work as expected with negative numbers so we're going\n",
    "    # to work with modules and ass a negative sign if necessary.\n",
    "    # Consequently, we have two cases:\n",
    "    temp=(abs(number))**(1/n)\n",
    "    if number<0:\n",
    "        return temp*(-1)\n",
    "    else:\n",
    "        return temp\n",
    "    \n",
    "# let's check that everything works:\n",
    "things=[1.34, 7, 8, -27, -5, 3+4j,'c']\n",
    "print([find_root(idx,3) for idx in things if is_integer(idx)])"
   ]
  },
  {
   "cell_type": "markdown",
   "id": "8b49e8a4-e080-483a-aab8-e3534a590e64",
   "metadata": {},
   "source": [
    "### Exercise 14\n",
    "\n",
    "A [dynamical system](https://en.wikipedia.org/wiki/Dynamical_system) is a system in which a function describes the time dependence of a point in a geometrical space. An example of a dynamical system is the [logistic map](https://en.wikipedia.org/wiki/Logistic_map), a growth model that computes a new population density (between 0 and 1) based on the current density. Here the time takes discrete values 0, 1, 2, …\n",
    "\n",
    "1. Define a function called `logistic_map` that takes two inputs: `x`, representing the current population (at time `t`), and a parameter `r = 1`. This function should return a value representing the state of the system (population) at time `t + 1`, using the mapping function:\n",
    "\n",
    "    ```f(t+1) = r * f(t) * [1 - f(t)]```\n",
    "\n",
    "2. Using a `for` or `while` loop, iterate the `logistic_map` in point 1, starting from an initial population of 0.5, for a period of time `t_final = 10`. Store the intermediate results in a list so that after the loop terminates you have accumulated a sequence of values representing the state of the logistic map at times `t = [0,1,...,t_final]` (11 values in total). Print this list to see the evolution of the population.\n",
    "\n",
    "3. Encapsulate the logic of your loop into a function called `iterate` that takes the initial population as its first input, the parameter `t_final` as its second input and the parameter r as its third input. The function should return the list of values representing the state of the logistic map at times `t = [0,1,...,t_final]`. Run this function for periods `t_final = 100` and `1000` and print some of the values. Is the population trending toward a steady state?\n"
   ]
  },
  {
   "cell_type": "code",
   "execution_count": 48,
   "id": "aac79f2a-2c1f-49a5-bf7a-f23993af855b",
   "metadata": {},
   "outputs": [],
   "source": [
    "# point 1\n",
    "def logistic_map(x,r):\n",
    "    return r*x*(1-x)"
   ]
  },
  {
   "cell_type": "code",
   "execution_count": 78,
   "id": "1795d73a-2160-41a9-9f31-cba10f1ccfeb",
   "metadata": {},
   "outputs": [
    {
     "name": "stdout",
     "output_type": "stream",
     "text": [
      "[0, 1, 2, 3, 4, 5, 6, 7, 8, 9] [0.5, 0.25, 0.1875, 0.15234375, 0.1291351318359375, 0.11245924956165254, 0.09981216674968249, 0.08984969811841606, 0.08177672986644556, 0.07508929631879595, 0.06945089389714401]\n"
     ]
    }
   ],
   "source": [
    "# point 2\n",
    "import numpy as np\n",
    "t_final=10\n",
    "r=1.0\n",
    "x_0=0.5\n",
    "t=list(range(t_final))\n",
    "x_t=[x_0]\n",
    "for idx in range(t_final):\n",
    "    x_t.append( logistic_map(x_t[idx],r) ) \n",
    "print(t,x_t)"
   ]
  },
  {
   "cell_type": "code",
   "execution_count": 80,
   "id": "69f31e66-9f50-483f-b01b-920e967c4cd0",
   "metadata": {},
   "outputs": [
    {
     "name": "stdout",
     "output_type": "stream",
     "text": [
      "[0, 1, 2, 3, 4, 5, 6, 7, 8, 9] [0.5, 0.25, 0.1875, 0.15234375, 0.1291351318359375, 0.11245924956165254, 0.09981216674968249, 0.08984969811841606, 0.08177672986644556, 0.07508929631879595, 0.06945089389714401]\n"
     ]
    }
   ],
   "source": [
    "# point 3\n",
    "def evolution(x_0,t_final, r):\n",
    "    t=list(range(t_final))\n",
    "    x_t=[x_0]\n",
    "    for idx in range(t_final):\n",
    "        x_t.append( logistic_map(x_t[idx],r) ) \n",
    "    return x_t, t\n",
    "x_ex,ex=evolution(0.5,10,1.0)\n",
    "print(ex,x_ex)"
   ]
  },
  {
   "cell_type": "code",
   "execution_count": null,
   "id": "e3a87d4a-8432-4e13-bfa7-73297cac7203",
   "metadata": {},
   "outputs": [],
   "source": []
  }
 ],
 "metadata": {
  "kernelspec": {
   "display_name": "Python 3 (ipykernel)",
   "language": "python",
   "name": "python3"
  },
  "language_info": {
   "codemirror_mode": {
    "name": "ipython",
    "version": 3
   },
   "file_extension": ".py",
   "mimetype": "text/x-python",
   "name": "python",
   "nbconvert_exporter": "python",
   "pygments_lexer": "ipython3",
   "version": "3.8.3"
  }
 },
 "nbformat": 4,
 "nbformat_minor": 5
}
